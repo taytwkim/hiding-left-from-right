{
  "nbformat": 4,
  "nbformat_minor": 0,
  "metadata": {
    "colab": {
      "provenance": []
    },
    "kernelspec": {
      "name": "python3",
      "display_name": "Python 3"
    },
    "language_info": {
      "name": "python"
    },
    "gpuClass": "standard"
  },
  "cells": [
    {
      "cell_type": "markdown",
      "source": [
        "# Download Youtube ASMR Dataset\n",
        "\n",
        "### COSC 89.30 Final Project\n",
        "\n",
        "#### Authors: Tai Wan Kim, Phuc Tran, Mark Lekina Rorat\n",
        "\n",
        "Download asmr videos from youtube using the `youtube_dl` package. \n",
        "\n",
        "Modified https://github.com/karreny/telling-left-from-right for Google Colab set up and resolved errors/dependency issues.\n",
        "\n",
        "Reference: K. Yang, B. Russell and J. Salamon, \"Telling Left from Right: Learning Spatial Correspondence between Sight and Sound\", IEEE Conference on Computer Vision and Pattern Recognition (CVPR), Virtual Conference, June 2020."
      ],
      "metadata": {
        "id": "6iU3FqfElRv8"
      }
    },
    {
      "cell_type": "markdown",
      "source": [
        "## Clone github repo and download csv files"
      ],
      "metadata": {
        "id": "fwLT3Jhyl7RQ"
      }
    },
    {
      "cell_type": "code",
      "source": [
        "!git clone https://github.com/karreny/telling-left-from-right.git"
      ],
      "metadata": {
        "colab": {
          "base_uri": "https://localhost:8080/"
        },
        "id": "xR_qooKaFyOT",
        "outputId": "44c2b0d5-0218-454a-dc16-b2925f75560e"
      },
      "execution_count": null,
      "outputs": [
        {
          "output_type": "stream",
          "name": "stdout",
          "text": [
            "Cloning into 'telling-left-from-right'...\n",
            "remote: Enumerating objects: 253, done.\u001b[K\n",
            "remote: Counting objects: 100% (118/118), done.\u001b[K\n",
            "remote: Compressing objects: 100% (85/85), done.\u001b[K\n",
            "remote: Total 253 (delta 43), reused 105 (delta 32), pack-reused 135\u001b[K\n",
            "Receiving objects: 100% (253/253), 80.83 MiB | 26.77 MiB/s, done.\n",
            "Resolving deltas: 100% (50/50), done.\n"
          ]
        }
      ]
    },
    {
      "cell_type": "code",
      "source": [
        "!wget -O youtube_asmr.zip https://zenodo.org/record/3889168/files/youtube_asmr.zip?download=1\n",
        "!unzip youtube_asmr.zip"
      ],
      "metadata": {
        "colab": {
          "base_uri": "https://localhost:8080/"
        },
        "id": "vY0fYx3uF4Te",
        "outputId": "8845e14b-0439-471b-8484-bb8355aa7455"
      },
      "execution_count": null,
      "outputs": [
        {
          "output_type": "stream",
          "name": "stdout",
          "text": [
            "--2023-05-21 03:35:38--  https://zenodo.org/record/3889168/files/youtube_asmr.zip?download=1\n",
            "Resolving zenodo.org (zenodo.org)... 188.185.124.72\n",
            "Connecting to zenodo.org (zenodo.org)|188.185.124.72|:443... connected.\n",
            "HTTP request sent, awaiting response... 200 OK\n",
            "Length: 1656459 (1.6M) [application/octet-stream]\n",
            "Saving to: ‘youtube_asmr.zip’\n",
            "\n",
            "youtube_asmr.zip    100%[===================>]   1.58M  --.-KB/s    in 0.1s    \n",
            "\n",
            "2023-05-21 03:35:39 (14.6 MB/s) - ‘youtube_asmr.zip’ saved [1656459/1656459]\n",
            "\n",
            "Archive:  youtube_asmr.zip\n",
            "   creating: youtube_asmr/\n",
            "  inflating: youtube_asmr/LICENSE.txt  \n",
            "  inflating: youtube_asmr/README.txt  \n",
            "  inflating: youtube_asmr/train.csv  \n",
            "  inflating: youtube_asmr/train_300K.csv  \n",
            "  inflating: youtube_asmr/test_300K.csv  \n",
            "  inflating: youtube_asmr/val.csv    \n",
            "  inflating: youtube_asmr/val_300K.csv  \n",
            "  inflating: youtube_asmr/test.csv   \n"
          ]
        }
      ]
    },
    {
      "cell_type": "markdown",
      "source": [
        "## Navigate to repo directory and switch branch"
      ],
      "metadata": {
        "id": "b5SQRmuNmMAm"
      }
    },
    {
      "cell_type": "code",
      "source": [
        "%cd telling-left-from-right"
      ],
      "metadata": {
        "colab": {
          "base_uri": "https://localhost:8080/"
        },
        "id": "6tgGcS4kRrca",
        "outputId": "6e7e6cd0-39db-4530-da39-c9b8f4f8f2f2"
      },
      "execution_count": null,
      "outputs": [
        {
          "output_type": "stream",
          "name": "stdout",
          "text": [
            "/content/telling-left-from-right\n"
          ]
        }
      ]
    },
    {
      "cell_type": "code",
      "source": [
        "!git switch dataset"
      ],
      "metadata": {
        "colab": {
          "base_uri": "https://localhost:8080/"
        },
        "id": "I7VxPT2pLTRl",
        "outputId": "1d28ca12-e6cb-49f4-c73c-aaa51454a6e0"
      },
      "execution_count": null,
      "outputs": [
        {
          "output_type": "stream",
          "name": "stdout",
          "text": [
            "Branch 'dataset' set up to track remote branch 'dataset' from 'origin'.\n",
            "Switched to a new branch 'dataset'\n"
          ]
        }
      ]
    },
    {
      "cell_type": "markdown",
      "source": [
        "## Run script to download videos from YouTube"
      ],
      "metadata": {
        "id": "MIDeb6evmUfj"
      }
    },
    {
      "cell_type": "markdown",
      "source": [
        "### Install Miniconda"
      ],
      "metadata": {
        "id": "TNunAXeCnDfJ"
      }
    },
    {
      "cell_type": "code",
      "source": [
        "!wget https://repo.anaconda.com/miniconda/Miniconda3-latest-Linux-x86_64.sh\n",
        "!chmod +x Miniconda3-latest-Linux-x86_64.sh\n",
        "!./Miniconda3-latest-Linux-x86_64.sh -bfp /usr/local\n",
        "!conda --version"
      ],
      "metadata": {
        "colab": {
          "base_uri": "https://localhost:8080/"
        },
        "id": "G65nh7Y5TbuZ",
        "outputId": "4400767e-32b1-4cd4-b15d-ee0caf7ea4e2"
      },
      "execution_count": null,
      "outputs": [
        {
          "output_type": "stream",
          "name": "stdout",
          "text": [
            "--2023-05-21 03:35:51--  https://repo.anaconda.com/miniconda/Miniconda3-latest-Linux-x86_64.sh\n",
            "Resolving repo.anaconda.com (repo.anaconda.com)... 104.16.131.3, 104.16.130.3, 2606:4700::6810:8203, ...\n",
            "Connecting to repo.anaconda.com (repo.anaconda.com)|104.16.131.3|:443... connected.\n",
            "HTTP request sent, awaiting response... 200 OK\n",
            "Length: 73134376 (70M) [application/x-sh]\n",
            "Saving to: ‘Miniconda3-latest-Linux-x86_64.sh’\n",
            "\n",
            "Miniconda3-latest-L 100%[===================>]  69.75M   324MB/s    in 0.2s    \n",
            "\n",
            "2023-05-21 03:35:51 (324 MB/s) - ‘Miniconda3-latest-Linux-x86_64.sh’ saved [73134376/73134376]\n",
            "\n",
            "PREFIX=/usr/local\n",
            "Unpacking payload ...\n",
            "                                                                                         \n",
            "Installing base environment...\n",
            "\n",
            "\n",
            "Downloading and Extracting Packages\n",
            "\n",
            "\n",
            "Downloading and Extracting Packages\n",
            "\n",
            "Preparing transaction: - \b\b\\ \b\b| \b\b/ \b\b- \b\b\\ \b\bdone\n",
            "Executing transaction: / \b\b- \b\b\\ \b\b| \b\b/ \b\b- \b\b\\ \b\b| \b\b/ \b\b- \b\b\\ \b\b| \b\b/ \b\b- \b\b\\ \b\b| \b\b/ \b\b- \b\b\\ \b\b| \b\b/ \b\b- \b\b\\ \b\b| \b\b/ \b\b- \b\b\\ \b\b| \b\b/ \b\b- \b\bdone\n",
            "installation finished.\n",
            "WARNING:\n",
            "    You currently have a PYTHONPATH environment variable set. This may cause\n",
            "    unexpected behavior when running the Python interpreter in Miniconda3.\n",
            "    For best results, please verify that your PYTHONPATH only points to\n",
            "    directories of packages that are compatible with the Python interpreter\n",
            "    in Miniconda3: /usr/local\n",
            "conda 23.3.1\n"
          ]
        }
      ]
    },
    {
      "cell_type": "code",
      "source": [
        "import sys\n",
        "sys.path.append('/usr/local/lib/python3.7/site-packages/')\n",
        "sys.path.append('/usr/local/envs/yt-asmr/lib/python3.7/site-packages/')"
      ],
      "metadata": {
        "id": "8O8bihHcUvAm"
      },
      "execution_count": null,
      "outputs": []
    },
    {
      "cell_type": "markdown",
      "source": [
        "### Build dependencies and create conda envrionment (remove `%%capture` to see full log)"
      ],
      "metadata": {
        "id": "qu_Smgf9nPQg"
      }
    },
    {
      "cell_type": "code",
      "source": [
        "%%capture\n",
        "!conda env create -f environment.yml"
      ],
      "metadata": {
        "id": "WUYhzvCLU19S"
      },
      "execution_count": null,
      "outputs": []
    },
    {
      "cell_type": "code",
      "source": [
        "!conda info --envs"
      ],
      "metadata": {
        "colab": {
          "base_uri": "https://localhost:8080/"
        },
        "id": "e7YXBFrTJ-TF",
        "outputId": "32368661-beb7-49d4-d967-e4d71590fa65"
      },
      "execution_count": null,
      "outputs": [
        {
          "output_type": "stream",
          "name": "stdout",
          "text": [
            "# conda environments:\n",
            "#\n",
            "base                     /usr/local\n",
            "yt-asmr                  /usr/local/envs/yt-asmr\n",
            "\n"
          ]
        }
      ]
    },
    {
      "cell_type": "code",
      "source": [
        "!conda init powershell"
      ],
      "metadata": {
        "colab": {
          "base_uri": "https://localhost:8080/"
        },
        "id": "tzbquZ_Kgy4M",
        "outputId": "4977efe6-8daf-45b7-8763-cfa270d8b7cd"
      },
      "execution_count": null,
      "outputs": [
        {
          "output_type": "stream",
          "name": "stdout",
          "text": [
            "no change     /usr/local/condabin/conda\n",
            "no change     /usr/local/bin/conda\n",
            "no change     /usr/local/bin/conda-env\n",
            "no change     /usr/local/bin/activate\n",
            "no change     /usr/local/bin/deactivate\n",
            "no change     /usr/local/etc/profile.d/conda.sh\n",
            "no change     /usr/local/etc/fish/conf.d/conda.fish\n",
            "no change     /usr/local/shell/condabin/Conda.psm1\n",
            "no change     /usr/local/shell/condabin/conda-hook.ps1\n",
            "no change     /usr/local/lib/python3.10/site-packages/xontrib/conda.xsh\n",
            "no change     /usr/local/etc/profile.d/conda.csh\n",
            "No action taken.\n"
          ]
        }
      ]
    },
    {
      "cell_type": "markdown",
      "source": [
        "### Install sox, audio processing package."
      ],
      "metadata": {
        "id": "9tLA_9Egoc9v"
      }
    },
    {
      "cell_type": "code",
      "source": [
        "!sudo apt-get install sox\n",
        "!which sox"
      ],
      "metadata": {
        "id": "R-jhrHW2d9pG",
        "colab": {
          "base_uri": "https://localhost:8080/"
        },
        "outputId": "c3b2f93c-e5cb-4610-c58f-91e40e25df20"
      },
      "execution_count": null,
      "outputs": [
        {
          "output_type": "stream",
          "name": "stdout",
          "text": [
            "Reading package lists... Done\n",
            "Building dependency tree       \n",
            "Reading state information... Done\n",
            "The following additional packages will be installed:\n",
            "  libopencore-amrnb0 libopencore-amrwb0 libsox-fmt-alsa libsox-fmt-base\n",
            "  libsox3\n",
            "Suggested packages:\n",
            "  libsox-fmt-all\n",
            "The following NEW packages will be installed:\n",
            "  libopencore-amrnb0 libopencore-amrwb0 libsox-fmt-alsa libsox-fmt-base\n",
            "  libsox3 sox\n",
            "0 upgraded, 6 newly installed, 0 to remove and 24 not upgraded.\n",
            "Need to get 513 kB of archives.\n",
            "After this operation, 1,564 kB of additional disk space will be used.\n",
            "Get:1 http://archive.ubuntu.com/ubuntu focal/universe amd64 libopencore-amrnb0 amd64 0.1.5-1 [94.8 kB]\n",
            "Get:2 http://archive.ubuntu.com/ubuntu focal/universe amd64 libopencore-amrwb0 amd64 0.1.5-1 [49.1 kB]\n",
            "Get:3 http://archive.ubuntu.com/ubuntu focal-updates/universe amd64 libsox3 amd64 14.4.2+git20190427-2+deb11u2build0.20.04.1 [225 kB]\n",
            "Get:4 http://archive.ubuntu.com/ubuntu focal-updates/universe amd64 libsox-fmt-alsa amd64 14.4.2+git20190427-2+deb11u2build0.20.04.1 [10.5 kB]\n",
            "Get:5 http://archive.ubuntu.com/ubuntu focal-updates/universe amd64 libsox-fmt-base amd64 14.4.2+git20190427-2+deb11u2build0.20.04.1 [31.4 kB]\n",
            "Get:6 http://archive.ubuntu.com/ubuntu focal-updates/universe amd64 sox amd64 14.4.2+git20190427-2+deb11u2build0.20.04.1 [102 kB]\n",
            "Fetched 513 kB in 0s (4,685 kB/s)\n",
            "debconf: unable to initialize frontend: Dialog\n",
            "debconf: (No usable dialog-like program is installed, so the dialog based frontend cannot be used. at /usr/share/perl5/Debconf/FrontEnd/Dialog.pm line 76, <> line 6.)\n",
            "debconf: falling back to frontend: Readline\n",
            "debconf: unable to initialize frontend: Readline\n",
            "debconf: (This frontend requires a controlling tty.)\n",
            "debconf: falling back to frontend: Teletype\n",
            "dpkg-preconfigure: unable to re-open stdin: \n",
            "Selecting previously unselected package libopencore-amrnb0:amd64.\n",
            "(Reading database ... 122531 files and directories currently installed.)\n",
            "Preparing to unpack .../0-libopencore-amrnb0_0.1.5-1_amd64.deb ...\n",
            "Unpacking libopencore-amrnb0:amd64 (0.1.5-1) ...\n",
            "Selecting previously unselected package libopencore-amrwb0:amd64.\n",
            "Preparing to unpack .../1-libopencore-amrwb0_0.1.5-1_amd64.deb ...\n",
            "Unpacking libopencore-amrwb0:amd64 (0.1.5-1) ...\n",
            "Selecting previously unselected package libsox3:amd64.\n",
            "Preparing to unpack .../2-libsox3_14.4.2+git20190427-2+deb11u2build0.20.04.1_amd64.deb ...\n",
            "Unpacking libsox3:amd64 (14.4.2+git20190427-2+deb11u2build0.20.04.1) ...\n",
            "Selecting previously unselected package libsox-fmt-alsa:amd64.\n",
            "Preparing to unpack .../3-libsox-fmt-alsa_14.4.2+git20190427-2+deb11u2build0.20.04.1_amd64.deb ...\n",
            "Unpacking libsox-fmt-alsa:amd64 (14.4.2+git20190427-2+deb11u2build0.20.04.1) ...\n",
            "Selecting previously unselected package libsox-fmt-base:amd64.\n",
            "Preparing to unpack .../4-libsox-fmt-base_14.4.2+git20190427-2+deb11u2build0.20.04.1_amd64.deb ...\n",
            "Unpacking libsox-fmt-base:amd64 (14.4.2+git20190427-2+deb11u2build0.20.04.1) ...\n",
            "Selecting previously unselected package sox.\n",
            "Preparing to unpack .../5-sox_14.4.2+git20190427-2+deb11u2build0.20.04.1_amd64.deb ...\n",
            "Unpacking sox (14.4.2+git20190427-2+deb11u2build0.20.04.1) ...\n",
            "Setting up libsox3:amd64 (14.4.2+git20190427-2+deb11u2build0.20.04.1) ...\n",
            "Setting up libopencore-amrwb0:amd64 (0.1.5-1) ...\n",
            "Setting up libsox-fmt-alsa:amd64 (14.4.2+git20190427-2+deb11u2build0.20.04.1) ...\n",
            "Setting up libopencore-amrnb0:amd64 (0.1.5-1) ...\n",
            "Setting up libsox-fmt-base:amd64 (14.4.2+git20190427-2+deb11u2build0.20.04.1) ...\n",
            "Setting up sox (14.4.2+git20190427-2+deb11u2build0.20.04.1) ...\n",
            "Processing triggers for libc-bin (2.31-0ubuntu9.9) ...\n",
            "Processing triggers for man-db (2.9.1-1) ...\n",
            "Processing triggers for mime-support (3.64ubuntu1) ...\n",
            "/usr/bin/sox\n"
          ]
        }
      ]
    },
    {
      "cell_type": "markdown",
      "source": [
        "### Activate yt-asmr envrionment and run script to download data.\n",
        "\n",
        "Once the conda environment has been activated, check via `conda info --envs`. **You should see a * in front of yt-asmr.** Note that the environment is activated only within this cell. \n",
        "\n",
        "### 🚨 **IMPORTANT!**\n",
        "\n",
        "Update original code to resolve errors:\n",
        "\n",
        "* Open `telling-left-from-right/download_yt_asmr.py`. **Modify line 378 from `video = pafy.new(video_page_url)` to `video = pafy.new(ytid)`**.\n",
        "* Open `/usr/local/envs/yt-asmr/lib/python3.8/site-packages/pafy/backend_youtube_dl.py`. **Comment out lines 47 and 51** (`average_rating` and `dislike_count`).\n",
        "\n",
        "After the above steps, run the python script `python download_yt_asmr.py <url_file_path> <data_dir>`. \n",
        "\n",
        "e.g., `python telling-left-from-right/download_yt_asmr.py youtube_asmr/test.csv test_data`\n",
        "\n",
        "MP4 video clips and FLAC audio clips will be downloaded to `<data_dir>/data/video/` and `<data_dir>/data/audio` respectively. Download details (including errors) will be logged at yt-asmr-dl.log.\n",
        "\n",
        "The download will take a long time. For testing purposes, I recommend using a smaller subset provided here: https://drive.google.com/file/d/16o1h_aU51cbPRP8UUCzfgIskSr9Chywd/view?usp=share_link\n",
        "\n",
        "Test set of 300 videos: https://drive.google.com/file/d/1o1qxGOzqoOt9GjPX0TJOK-JZGYTdBysQ/view?usp=share_link\n",
        "\n",
        "Once the download is complete, navigate to `<data_dir>` and confirm that the files have been generated. "
      ],
      "metadata": {
        "id": "YOXhAWYCnvBZ"
      }
    },
    {
      "cell_type": "code",
      "source": [
        "%%bash\n",
        "source activate yt-asmr\n",
        "conda info --envs\n",
        "pip install --upgrade --force-reinstall \"git+https://github.com/ytdl-org/youtube-dl.git\"\n",
        "python download_yt_asmr.py ../youtube_asmr/test_300.csv test_data"
      ],
      "metadata": {
        "colab": {
          "base_uri": "https://localhost:8080/"
        },
        "id": "x1wrrM6iS7SY",
        "outputId": "c019998d-8146-463e-febc-0d8769e55977"
      },
      "execution_count": null,
      "outputs": [
        {
          "output_type": "stream",
          "name": "stdout",
          "text": [
            "# conda environments:\n",
            "#\n",
            "base                     /usr/local\n",
            "yt-asmr               *  /usr/local/envs/yt-asmr\n",
            "\n",
            "Looking in indexes: https://pypi.org/simple, https://us-python.pkg.dev/colab-wheels/public/simple/\n",
            "Collecting git+https://github.com/ytdl-org/youtube-dl.git\n",
            "  Cloning https://github.com/ytdl-org/youtube-dl.git to /tmp/pip-req-build-ck0t3c2o\n",
            "Building wheels for collected packages: youtube-dl\n",
            "  Building wheel for youtube-dl (setup.py): started\n",
            "  Building wheel for youtube-dl (setup.py): finished with status 'done'\n",
            "  Created wheel for youtube-dl: filename=youtube_dl-2021.12.17-py2.py3-none-any.whl size=1921844 sha256=f2177acf10fb6ae29f08b2b6bbe6d57ae65f206ce5b5b3681663e61c7bfd85e4\n",
            "  Stored in directory: /tmp/pip-ephem-wheel-cache-8j_qmjai/wheels/d5/e5/52/984325a3672413d04a10ecef705b2f24e04806e6b1eb7a9220\n",
            "Successfully built youtube-dl\n",
            "Installing collected packages: youtube-dl\n",
            "  Attempting uninstall: youtube-dl\n",
            "    Found existing installation: youtube-dl 2021.12.17\n",
            "    Uninstalling youtube-dl-2021.12.17:\n",
            "      Successfully uninstalled youtube-dl-2021.12.17\n",
            "Successfully installed youtube-dl-2021.12.17\n"
          ]
        },
        {
          "output_type": "stream",
          "name": "stderr",
          "text": [
            "ERROR: Private video\n",
            "Sign in if you've been granted access to this video\n",
            "ERROR: Private video\n",
            "Sign in if you've been granted access to this video\n",
            "ERROR: Private video\n",
            "Sign in if you've been granted access to this video\n",
            "ERROR: Private video\n",
            "Sign in if you've been granted access to this video\n",
            "ERROR: Private video\n",
            "Sign in if you've been granted access to this video\n",
            "ERROR: Private video\n",
            "Sign in if you've been granted access to this video\n",
            "ERROR: Private video\n",
            "Sign in if you've been granted access to this video\n",
            "ERROR: Private video\n",
            "Sign in if you've been granted access to this video\n",
            "ERROR: Private video\n",
            "Sign in if you've been granted access to this video\n",
            "ERROR: Private video\n",
            "Sign in if you've been granted access to this video\n",
            "ERROR: Private video\n",
            "Sign in if you've been granted access to this video\n",
            "ERROR: Private video\n",
            "Sign in if you've been granted access to this video\n",
            "ERROR: Private video\n",
            "Sign in if you've been granted access to this video\n"
          ]
        }
      ]
    },
    {
      "cell_type": "code",
      "source": [
        "!cat yt-asmr-dl.log"
      ],
      "metadata": {
        "colab": {
          "base_uri": "https://localhost:8080/"
        },
        "id": "P1vHmC1YT8Bj",
        "outputId": "edd48399-b9b8-419c-c41e-31cef45bd4c2"
      },
      "execution_count": null,
      "outputs": [
        {
          "output_type": "stream",
          "name": "stdout",
          "text": [
            "2023-05-21 02:54:59,522 - ytasmr - DEBUG - Initialized logging.\n",
            "2023-05-21 02:54:59,522 - ytasmr - INFO - Starting download jobs for subset \"test_dummy\"\n",
            "2023-05-21 02:54:59,552 - ytasmr - INFO - Attempting to download video J3LWAW8w7ik (140.0 - 150.0)\n",
            "2023-05-21 02:54:59,560 - ytasmr - INFO - Attempting to download video J3LWAW8w7ik (220.0 - 230.0)\n",
            "2023-05-21 02:54:59,567 - ytasmr - INFO - Attempting to download video J3LWAW8w7ik (300.0 - 310.0)\n",
            "2023-05-21 02:54:59,574 - ytasmr - INFO - Attempting to download video J3LWAW8w7ik (370.0 - 380.0)\n",
            "2023-05-21 02:56:25,062 - ytasmr - INFO - Downloaded video J3LWAW8w7ik (220.0 - 230.0)\n",
            "2023-05-21 02:56:25,063 - ytasmr - INFO - Attempting to download video J3LWAW8w7ik (560.0 - 570.0)\n",
            "2023-05-21 02:56:26,222 - ytasmr - INFO - Downloaded video J3LWAW8w7ik (300.0 - 310.0)\n",
            "2023-05-21 02:56:26,223 - ytasmr - INFO - Attempting to download video J3LWAW8w7ik (710.0 - 720.0)\n",
            "2023-05-21 02:56:50,190 - ytasmr - INFO - Downloaded video J3LWAW8w7ik (370.0 - 380.0)\n",
            "2023-05-21 02:56:50,191 - ytasmr - INFO - Attempting to download video J3LWAW8w7ik (770.0 - 780.0)\n",
            "2023-05-21 02:56:52,724 - ytasmr - INFO - Downloaded video J3LWAW8w7ik (140.0 - 150.0)\n",
            "2023-05-21 02:56:52,725 - ytasmr - INFO - Attempting to download video J3LWAW8w7ik (810.0 - 820.0)\n",
            "2023-05-21 02:58:04,576 - ytasmr - INFO - Downloaded video J3LWAW8w7ik (710.0 - 720.0)\n",
            "2023-05-21 02:58:04,577 - ytasmr - INFO - Attempting to download video J3LWAW8w7ik (850.0 - 860.0)\n",
            "2023-05-21 02:58:21,146 - ytasmr - INFO - Downloaded video J3LWAW8w7ik (560.0 - 570.0)\n",
            "2023-05-21 02:58:21,147 - ytasmr - INFO - Attempting to download video J3LWAW8w7ik (900.0 - 910.0)\n",
            "2023-05-21 02:58:21,941 - ytasmr - INFO - Downloaded video J3LWAW8w7ik (810.0 - 820.0)\n",
            "2023-05-21 02:58:21,942 - ytasmr - INFO - Attempting to download video J3LWAW8w7ik (1110.0 - 1120.0)\n",
            "2023-05-21 02:58:44,517 - ytasmr - INFO - Downloaded video J3LWAW8w7ik (770.0 - 780.0)\n",
            "2023-05-21 02:58:44,519 - ytasmr - INFO - Attempting to download video J3LWAW8w7ik (1630.0 - 1640.0)\n",
            "2023-05-21 02:59:40,808 - ytasmr - INFO - Downloaded video J3LWAW8w7ik (850.0 - 860.0)\n",
            "2023-05-21 02:59:44,772 - ytasmr - INFO - Downloaded video J3LWAW8w7ik (900.0 - 910.0)\n",
            "2023-05-21 03:00:01,987 - ytasmr - INFO - Downloaded video J3LWAW8w7ik (1110.0 - 1120.0)\n",
            "2023-05-21 03:00:02,272 - ytasmr - INFO - Downloaded video J3LWAW8w7ik (1630.0 - 1640.0)\n",
            "2023-05-21 03:00:02,296 - ytasmr - INFO - Finished download jobs for subset \"test_dummy\"\n",
            "2023-05-21 03:00:02,297 - ytasmr - INFO - Download took 302.77477055299994 seconds\n"
          ]
        }
      ]
    },
    {
      "cell_type": "code",
      "source": [
        "!zip -r /content/test_300.zip /content/telling-left-from-right/test_data/data/test_300/ # create a zip file of downloaded videos"
      ],
      "metadata": {
        "colab": {
          "base_uri": "https://localhost:8080/"
        },
        "id": "N3RUB2sWQSC5",
        "outputId": "807081b8-eb4a-41be-f1c0-122643616aac"
      },
      "execution_count": null,
      "outputs": [
        {
          "output_type": "stream",
          "name": "stdout",
          "text": [
            "  adding: content/telling-left-from-right/test_data/data/test_300/ (stored 0%)\n",
            "  adding: content/telling-left-from-right/test_data/data/test_300/audio/ (stored 0%)\n",
            "  adding: content/telling-left-from-right/test_data/data/test_300/audio/UfHPnimtqF8_650000_660000.flac (deflated 1%)\n",
            "  adding: content/telling-left-from-right/test_data/data/test_300/audio/UfHPnimtqF8_920000_930000.flac (deflated 1%)\n",
            "  adding: content/telling-left-from-right/test_data/data/test_300/audio/ozdDNG9z-Gs_160000_170000.flac (deflated 1%)\n",
            "  adding: content/telling-left-from-right/test_data/data/test_300/audio/PwWwbsg5EDE_120000_130000.flac (deflated 1%)\n",
            "  adding: content/telling-left-from-right/test_data/data/test_300/audio/UfHPnimtqF8_800000_810000.flac (deflated 1%)\n",
            "  adding: content/telling-left-from-right/test_data/data/test_300/audio/lcvx8KOOapo_690000_700000.flac (deflated 1%)\n",
            "  adding: content/telling-left-from-right/test_data/data/test_300/audio/A5f6-eO5fZI_1390000_1400000.flac (deflated 1%)\n",
            "  adding: content/telling-left-from-right/test_data/data/test_300/audio/_2cCkYvKPVs_380000_390000.flac (deflated 1%)\n",
            "  adding: content/telling-left-from-right/test_data/data/test_300/audio/UfHPnimtqF8_780000_790000.flac (deflated 1%)\n",
            "  adding: content/telling-left-from-right/test_data/data/test_300/audio/aWRlY-dIufc_540000_550000.flac (deflated 1%)\n",
            "  adding: content/telling-left-from-right/test_data/data/test_300/audio/3_T0yaugZrc_1250000_1260000.flac (deflated 1%)\n",
            "  adding: content/telling-left-from-right/test_data/data/test_300/audio/aWRlY-dIufc_980000_990000.flac (deflated 0%)\n",
            "  adding: content/telling-left-from-right/test_data/data/test_300/audio/lcvx8KOOapo_570000_580000.flac (deflated 1%)\n",
            "  adding: content/telling-left-from-right/test_data/data/test_300/audio/0c1aOttn738_1650000_1660000.flac (deflated 1%)\n",
            "  adding: content/telling-left-from-right/test_data/data/test_300/audio/ozdDNG9z-Gs_770000_780000.flac (deflated 0%)\n",
            "  adding: content/telling-left-from-right/test_data/data/test_300/audio/Z9Ih-PPTIWE_2160000_2170000.flac (deflated 1%)\n",
            "  adding: content/telling-left-from-right/test_data/data/test_300/audio/aWRlY-dIufc_810000_820000.flac (deflated 1%)\n",
            "  adding: content/telling-left-from-right/test_data/data/test_300/audio/VBKwmc3s6Ts_1100000_1110000.flac (deflated 1%)\n",
            "  adding: content/telling-left-from-right/test_data/data/test_300/audio/Z9Ih-PPTIWE_730000_740000.flac (deflated 0%)\n",
            "  adding: content/telling-left-from-right/test_data/data/test_300/audio/Z9Ih-PPTIWE_1150000_1160000.flac (deflated 1%)\n",
            "  adding: content/telling-left-from-right/test_data/data/test_300/audio/P_Bvt4PI8Go_2330000_2340000.flac (deflated 1%)\n",
            "  adding: content/telling-left-from-right/test_data/data/test_300/audio/lcvx8KOOapo_620000_630000.flac (deflated 1%)\n",
            "  adding: content/telling-left-from-right/test_data/data/test_300/audio/7xIZoFhufbI_680000_690000.flac (deflated 1%)\n",
            "  adding: content/telling-left-from-right/test_data/data/test_300/audio/A5f6-eO5fZI_1460000_1470000.flac (deflated 0%)\n",
            "  adding: content/telling-left-from-right/test_data/data/test_300/audio/Z9Ih-PPTIWE_650000_660000.flac (deflated 0%)\n",
            "  adding: content/telling-left-from-right/test_data/data/test_300/audio/3_T0yaugZrc_300000_310000.flac (deflated 1%)\n",
            "  adding: content/telling-left-from-right/test_data/data/test_300/audio/SpBWgL-_I-s_170000_180000.flac (deflated 1%)\n",
            "  adding: content/telling-left-from-right/test_data/data/test_300/audio/XgOL_lXZCnc_720000_730000.flac (deflated 1%)\n",
            "  adding: content/telling-left-from-right/test_data/data/test_300/audio/I5gp7r_I4Yk_690000_700000.flac (deflated 0%)\n",
            "  adding: content/telling-left-from-right/test_data/data/test_300/audio/3_T0yaugZrc_1300000_1310000.flac (deflated 1%)\n",
            "  adding: content/telling-left-from-right/test_data/data/test_300/audio/aWRlY-dIufc_340000_350000.flac (deflated 1%)\n",
            "  adding: content/telling-left-from-right/test_data/data/test_300/audio/o5tUGJc-0_o_150000_160000.flac (deflated 0%)\n",
            "  adding: content/telling-left-from-right/test_data/data/test_300/audio/XgOL_lXZCnc_790000_800000.flac (deflated 1%)\n",
            "  adding: content/telling-left-from-right/test_data/data/test_300/audio/0c1aOttn738_420000_430000.flac (deflated 1%)\n",
            "  adding: content/telling-left-from-right/test_data/data/test_300/audio/I5gp7r_I4Yk_1000000_1010000.flac (deflated 0%)\n",
            "  adding: content/telling-left-from-right/test_data/data/test_300/audio/A5f6-eO5fZI_1140000_1150000.flac (deflated 1%)\n",
            "  adding: content/telling-left-from-right/test_data/data/test_300/audio/XgOL_lXZCnc_1460000_1470000.flac (deflated 1%)\n",
            "  adding: content/telling-left-from-right/test_data/data/test_300/audio/3_T0yaugZrc_910000_920000.flac (deflated 1%)\n",
            "  adding: content/telling-left-from-right/test_data/data/test_300/audio/J3LWAW8w7ik_140000_150000.flac (deflated 1%)\n",
            "  adding: content/telling-left-from-right/test_data/data/test_300/audio/0c1aOttn738_240000_250000.flac (deflated 1%)\n",
            "  adding: content/telling-left-from-right/test_data/data/test_300/audio/lcvx8KOOapo_50000_60000.flac (deflated 1%)\n",
            "  adding: content/telling-left-from-right/test_data/data/test_300/audio/7xIZoFhufbI_990000_1000000.flac (deflated 1%)\n",
            "  adding: content/telling-left-from-right/test_data/data/test_300/audio/XgOL_lXZCnc_1690000_1700000.flac (deflated 1%)\n",
            "  adding: content/telling-left-from-right/test_data/data/test_300/audio/P_Bvt4PI8Go_170000_180000.flac (deflated 1%)\n",
            "  adding: content/telling-left-from-right/test_data/data/test_300/audio/P_Bvt4PI8Go_1840000_1850000.flac (deflated 1%)\n",
            "  adding: content/telling-left-from-right/test_data/data/test_300/audio/J3LWAW8w7ik_370000_380000.flac (deflated 1%)\n",
            "  adding: content/telling-left-from-right/test_data/data/test_300/audio/DKarJa25mjQ_1330000_1340000.flac (deflated 1%)\n",
            "  adding: content/telling-left-from-right/test_data/data/test_300/audio/Z9Ih-PPTIWE_1330000_1340000.flac (deflated 1%)\n",
            "  adding: content/telling-left-from-right/test_data/data/test_300/audio/mdGleunr-qo_3130000_3140000.flac (deflated 1%)\n",
            "  adding: content/telling-left-from-right/test_data/data/test_300/audio/MhmD-7pTlvI_1430000_1440000.flac (deflated 1%)\n",
            "  adding: content/telling-left-from-right/test_data/data/test_300/audio/MhmD-7pTlvI_690000_700000.flac (deflated 1%)\n",
            "  adding: content/telling-left-from-right/test_data/data/test_300/audio/LqzOixBniZs_180000_190000.flac (deflated 1%)\n",
            "  adding: content/telling-left-from-right/test_data/data/test_300/audio/lcvx8KOOapo_470000_480000.flac (deflated 1%)\n",
            "  adding: content/telling-left-from-right/test_data/data/test_300/audio/o5tUGJc-0_o_3920000_3930000.flac (deflated 0%)\n",
            "  adding: content/telling-left-from-right/test_data/data/test_300/audio/anRwt5fMMCA_20000_30000.flac (deflated 1%)\n",
            "  adding: content/telling-left-from-right/test_data/data/test_300/audio/_2cCkYvKPVs_500000_510000.flac (deflated 1%)\n",
            "  adding: content/telling-left-from-right/test_data/data/test_300/audio/mdGleunr-qo_8620000_8630000.flac (deflated 2%)\n",
            "  adding: content/telling-left-from-right/test_data/data/test_300/audio/MhmD-7pTlvI_560000_570000.flac (deflated 1%)\n",
            "  adding: content/telling-left-from-right/test_data/data/test_300/audio/VBKwmc3s6Ts_80000_90000.flac (deflated 1%)\n",
            "  adding: content/telling-left-from-right/test_data/data/test_300/audio/MhmD-7pTlvI_1240000_1250000.flac (deflated 1%)\n",
            "  adding: content/telling-left-from-right/test_data/data/test_300/audio/XgOL_lXZCnc_1000000_1010000.flac (deflated 1%)\n",
            "  adding: content/telling-left-from-right/test_data/data/test_300/audio/anRwt5fMMCA_100000_110000.flac (deflated 1%)\n",
            "  adding: content/telling-left-from-right/test_data/data/test_300/audio/ozdDNG9z-Gs_1090000_1100000.flac (deflated 0%)\n",
            "  adding: content/telling-left-from-right/test_data/data/test_300/audio/AhwHlMd7YUw_770000_780000.flac (deflated 1%)\n",
            "  adding: content/telling-left-from-right/test_data/data/test_300/audio/UfHPnimtqF8_1160000_1170000.flac (deflated 1%)\n",
            "  adding: content/telling-left-from-right/test_data/data/test_300/audio/LqzOixBniZs_1880000_1890000.flac (deflated 1%)\n",
            "  adding: content/telling-left-from-right/test_data/data/test_300/audio/J3LWAW8w7ik_1110000_1120000.flac (deflated 1%)\n",
            "  adding: content/telling-left-from-right/test_data/data/test_300/audio/0c1aOttn738_30000_40000.flac (deflated 1%)\n",
            "  adding: content/telling-left-from-right/test_data/data/test_300/audio/AhwHlMd7YUw_920000_930000.flac (deflated 1%)\n",
            "  adding: content/telling-left-from-right/test_data/data/test_300/audio/MhmD-7pTlvI_480000_490000.flac (deflated 1%)\n",
            "  adding: content/telling-left-from-right/test_data/data/test_300/audio/VBKwmc3s6Ts_780000_790000.flac (deflated 1%)\n",
            "  adding: content/telling-left-from-right/test_data/data/test_300/audio/P_Bvt4PI8Go_1070000_1080000.flac (deflated 1%)\n",
            "  adding: content/telling-left-from-right/test_data/data/test_300/audio/ozdDNG9z-Gs_900000_910000.flac (deflated 0%)\n",
            "  adding: content/telling-left-from-right/test_data/data/test_300/audio/UfHPnimtqF8_910000_920000.flac (deflated 1%)\n",
            "  adding: content/telling-left-from-right/test_data/data/test_300/audio/AhwHlMd7YUw_1100000_1110000.flac (deflated 1%)\n",
            "  adding: content/telling-left-from-right/test_data/data/test_300/audio/J3LWAW8w7ik_710000_720000.flac (deflated 1%)\n",
            "  adding: content/telling-left-from-right/test_data/data/test_300/audio/anRwt5fMMCA_700000_710000.flac (deflated 0%)\n",
            "  adding: content/telling-left-from-right/test_data/data/test_300/audio/3_T0yaugZrc_1390000_1400000.flac (deflated 1%)\n",
            "  adding: content/telling-left-from-right/test_data/data/test_300/audio/3GOzg1c0EEw_3610000_3620000.flac (deflated 1%)\n",
            "  adding: content/telling-left-from-right/test_data/data/test_300/audio/7xIZoFhufbI_150000_160000.flac (deflated 1%)\n",
            "  adding: content/telling-left-from-right/test_data/data/test_300/audio/SpBWgL-_I-s_690000_700000.flac (deflated 0%)\n",
            "  adding: content/telling-left-from-right/test_data/data/test_300/audio/aWRlY-dIufc_50000_60000.flac (deflated 1%)\n",
            "  adding: content/telling-left-from-right/test_data/data/test_300/audio/qXv3M2LzLII_280000_290000.flac (deflated 1%)\n",
            "  adding: content/telling-left-from-right/test_data/data/test_300/audio/SpBWgL-_I-s_1090000_1100000.flac (deflated 0%)\n",
            "  adding: content/telling-left-from-right/test_data/data/test_300/audio/Z9Ih-PPTIWE_1460000_1470000.flac (deflated 1%)\n",
            "  adding: content/telling-left-from-right/test_data/data/test_300/audio/0c1aOttn738_2070000_2080000.flac (deflated 1%)\n",
            "  adding: content/telling-left-from-right/test_data/data/test_300/audio/SpBWgL-_I-s_50000_60000.flac (deflated 0%)\n",
            "  adding: content/telling-left-from-right/test_data/data/test_300/audio/qXv3M2LzLII_1390000_1400000.flac (deflated 1%)\n",
            "  adding: content/telling-left-from-right/test_data/data/test_300/audio/aWRlY-dIufc_160000_170000.flac (deflated 1%)\n",
            "  adding: content/telling-left-from-right/test_data/data/test_300/audio/7xIZoFhufbI_830000_840000.flac (deflated 1%)\n",
            "  adding: content/telling-left-from-right/test_data/data/test_300/audio/J3LWAW8w7ik_770000_780000.flac (deflated 1%)\n",
            "  adding: content/telling-left-from-right/test_data/data/test_300/audio/_2cCkYvKPVs_670000_680000.flac (deflated 1%)\n",
            "  adding: content/telling-left-from-right/test_data/data/test_300/audio/JGV--l5DZsc_260000_270000.flac (deflated 1%)\n",
            "  adding: content/telling-left-from-right/test_data/data/test_300/audio/VBKwmc3s6Ts_460000_470000.flac (deflated 0%)\n",
            "  adding: content/telling-left-from-right/test_data/data/test_300/audio/anRwt5fMMCA_570000_580000.flac (deflated 0%)\n",
            "  adding: content/telling-left-from-right/test_data/data/test_300/audio/HH7qFbvlpfg_1840000_1850000.flac (deflated 1%)\n",
            "  adding: content/telling-left-from-right/test_data/data/test_300/audio/MhmD-7pTlvI_450000_460000.flac (deflated 1%)\n",
            "  adding: content/telling-left-from-right/test_data/data/test_300/audio/mdGleunr-qo_4780000_4790000.flac (deflated 1%)\n",
            "  adding: content/telling-left-from-right/test_data/data/test_300/audio/qXv3M2LzLII_600000_610000.flac (deflated 1%)\n",
            "  adding: content/telling-left-from-right/test_data/data/test_300/audio/Z9Ih-PPTIWE_1090000_1100000.flac (deflated 1%)\n",
            "  adding: content/telling-left-from-right/test_data/data/test_300/audio/A5f6-eO5fZI_580000_590000.flac (deflated 1%)\n",
            "  adding: content/telling-left-from-right/test_data/data/test_300/audio/XgOL_lXZCnc_860000_870000.flac (deflated 1%)\n",
            "  adding: content/telling-left-from-right/test_data/data/test_300/audio/J3LWAW8w7ik_810000_820000.flac (deflated 1%)\n",
            "  adding: content/telling-left-from-right/test_data/data/test_300/audio/_2cCkYvKPVs_340000_350000.flac (deflated 1%)\n",
            "  adding: content/telling-left-from-right/test_data/data/test_300/audio/HH7qFbvlpfg_0_10000.flac (deflated 1%)\n",
            "  adding: content/telling-left-from-right/test_data/data/test_300/audio/lcvx8KOOapo_1830000_1840000.flac (deflated 1%)\n",
            "  adding: content/telling-left-from-right/test_data/data/test_300/audio/3_T0yaugZrc_1060000_1070000.flac (deflated 1%)\n",
            "  adding: content/telling-left-from-right/test_data/data/test_300/audio/qXv3M2LzLII_1070000_1080000.flac (deflated 0%)\n",
            "  adding: content/telling-left-from-right/test_data/data/test_300/audio/anRwt5fMMCA_130000_140000.flac (deflated 0%)\n",
            "  adding: content/telling-left-from-right/test_data/data/test_300/audio/UfHPnimtqF8_1500000_1510000.flac (deflated 1%)\n",
            "  adding: content/telling-left-from-right/test_data/data/test_300/audio/AhwHlMd7YUw_300000_310000.flac (deflated 1%)\n",
            "  adding: content/telling-left-from-right/test_data/data/test_300/audio/UfHPnimtqF8_190000_200000.flac (deflated 1%)\n",
            "  adding: content/telling-left-from-right/test_data/data/test_300/audio/AhwHlMd7YUw_1070000_1080000.flac (deflated 1%)\n",
            "  adding: content/telling-left-from-right/test_data/data/test_300/audio/HH7qFbvlpfg_2430000_2440000.flac (deflated 1%)\n",
            "  adding: content/telling-left-from-right/test_data/data/test_300/audio/HH7qFbvlpfg_110000_120000.flac (deflated 1%)\n",
            "  adding: content/telling-left-from-right/test_data/data/test_300/audio/qXv3M2LzLII_480000_490000.flac (deflated 1%)\n",
            "  adding: content/telling-left-from-right/test_data/data/test_300/audio/SpBWgL-_I-s_610000_620000.flac (deflated 1%)\n",
            "  adding: content/telling-left-from-right/test_data/data/test_300/audio/oOH5yF9CGyU_420000_430000.flac (deflated 1%)\n",
            "  adding: content/telling-left-from-right/test_data/data/test_300/audio/XgOL_lXZCnc_700000_710000.flac (deflated 1%)\n",
            "  adding: content/telling-left-from-right/test_data/data/test_300/audio/0c1aOttn738_570000_580000.flac (deflated 1%)\n",
            "  adding: content/telling-left-from-right/test_data/data/test_300/audio/qXv3M2LzLII_820000_830000.flac (deflated 1%)\n",
            "  adding: content/telling-left-from-right/test_data/data/test_300/audio/J3LWAW8w7ik_850000_860000.flac (deflated 1%)\n",
            "  adding: content/telling-left-from-right/test_data/data/test_300/audio/SpBWgL-_I-s_230000_240000.flac (deflated 0%)\n",
            "  adding: content/telling-left-from-right/test_data/data/test_300/audio/_2cCkYvKPVs_100000_110000.flac (deflated 1%)\n",
            "  adding: content/telling-left-from-right/test_data/data/test_300/audio/JGV--l5DZsc_510000_520000.flac (deflated 1%)\n",
            "  adding: content/telling-left-from-right/test_data/data/test_300/audio/_2cCkYvKPVs_570000_580000.flac (deflated 1%)\n",
            "  adding: content/telling-left-from-right/test_data/data/test_300/audio/_2cCkYvKPVs_1000000_1010000.flac (deflated 1%)\n",
            "  adding: content/telling-left-from-right/test_data/data/test_300/audio/ozdDNG9z-Gs_650000_660000.flac (deflated 1%)\n",
            "  adding: content/telling-left-from-right/test_data/data/test_300/audio/VBKwmc3s6Ts_1700000_1710000.flac (deflated 1%)\n",
            "  adding: content/telling-left-from-right/test_data/data/test_300/audio/3_T0yaugZrc_50000_60000.flac (deflated 1%)\n",
            "  adding: content/telling-left-from-right/test_data/data/test_300/audio/0c1aOttn738_1880000_1890000.flac (deflated 1%)\n",
            "  adding: content/telling-left-from-right/test_data/data/test_300/audio/7xIZoFhufbI_110000_120000.flac (deflated 1%)\n",
            "  adding: content/telling-left-from-right/test_data/data/test_300/audio/MhmD-7pTlvI_930000_940000.flac (deflated 1%)\n",
            "  adding: content/telling-left-from-right/test_data/data/test_300/audio/o5tUGJc-0_o_200000_210000.flac (deflated 0%)\n",
            "  adding: content/telling-left-from-right/test_data/data/test_300/audio/SpBWgL-_I-s_1080000_1090000.flac (deflated 0%)\n",
            "  adding: content/telling-left-from-right/test_data/data/test_300/audio/lcvx8KOOapo_1470000_1480000.flac (deflated 1%)\n",
            "  adding: content/telling-left-from-right/test_data/data/test_300/audio/3_T0yaugZrc_90000_100000.flac (deflated 1%)\n",
            "  adding: content/telling-left-from-right/test_data/data/test_300/audio/VBKwmc3s6Ts_910000_920000.flac (deflated 1%)\n",
            "  adding: content/telling-left-from-right/test_data/data/test_300/audio/HH7qFbvlpfg_350000_360000.flac (deflated 1%)\n",
            "  adding: content/telling-left-from-right/test_data/data/test_300/audio/SpBWgL-_I-s_190000_200000.flac (deflated 0%)\n",
            "  adding: content/telling-left-from-right/test_data/data/test_300/audio/LqzOixBniZs_2110000_2120000.flac (deflated 1%)\n",
            "  adding: content/telling-left-from-right/test_data/data/test_300/audio/MhmD-7pTlvI_110000_120000.flac (deflated 1%)\n",
            "  adding: content/telling-left-from-right/test_data/data/test_300/audio/P_Bvt4PI8Go_680000_690000.flac (deflated 1%)\n",
            "  adding: content/telling-left-from-right/test_data/data/test_300/audio/ozdDNG9z-Gs_210000_220000.flac (deflated 0%)\n",
            "  adding: content/telling-left-from-right/test_data/data/test_300/audio/LqzOixBniZs_780000_790000.flac (deflated 1%)\n",
            "  adding: content/telling-left-from-right/test_data/data/test_300/audio/3_T0yaugZrc_350000_360000.flac (deflated 1%)\n",
            "  adding: content/telling-left-from-right/test_data/data/test_300/audio/AhwHlMd7YUw_810000_820000.flac (deflated 0%)\n",
            "  adding: content/telling-left-from-right/test_data/data/test_300/audio/o5tUGJc-0_o_3790000_3800000.flac (deflated 0%)\n",
            "  adding: content/telling-left-from-right/test_data/data/test_300/audio/SpBWgL-_I-s_330000_340000.flac (deflated 0%)\n",
            "  adding: content/telling-left-from-right/test_data/data/test_300/audio/HH7qFbvlpfg_1770000_1780000.flac (deflated 1%)\n",
            "  adding: content/telling-left-from-right/test_data/data/test_300/audio/MhmD-7pTlvI_1060000_1070000.flac (deflated 1%)\n",
            "  adding: content/telling-left-from-right/test_data/data/test_300/audio/UfHPnimtqF8_2110000_2120000.flac (deflated 1%)\n",
            "  adding: content/telling-left-from-right/test_data/data/test_300/audio/HH7qFbvlpfg_1430000_1440000.flac (deflated 1%)\n",
            "  adding: content/telling-left-from-right/test_data/data/test_300/audio/3_T0yaugZrc_1350000_1360000.flac (deflated 1%)\n",
            "  adding: content/telling-left-from-right/test_data/data/test_300/audio/MhmD-7pTlvI_1130000_1140000.flac (deflated 1%)\n",
            "  adding: content/telling-left-from-right/test_data/data/test_300/audio/VBKwmc3s6Ts_1300000_1310000.flac (deflated 1%)\n",
            "  adding: content/telling-left-from-right/test_data/data/test_300/audio/_2cCkYvKPVs_490000_500000.flac (deflated 1%)\n",
            "  adding: content/telling-left-from-right/test_data/data/test_300/audio/MhmD-7pTlvI_1230000_1240000.flac (deflated 1%)\n",
            "  adding: content/telling-left-from-right/test_data/data/test_300/audio/anRwt5fMMCA_680000_690000.flac (deflated 0%)\n",
            "  adding: content/telling-left-from-right/test_data/data/test_300/audio/HH7qFbvlpfg_1010000_1020000.flac (deflated 1%)\n",
            "  adding: content/telling-left-from-right/test_data/data/test_300/audio/qXv3M2LzLII_1630000_1640000.flac (deflated 1%)\n",
            "  adding: content/telling-left-from-right/test_data/data/test_300/audio/HH7qFbvlpfg_2280000_2290000.flac (deflated 1%)\n",
            "  adding: content/telling-left-from-right/test_data/data/test_300/audio/AhwHlMd7YUw_820000_830000.flac (deflated 0%)\n",
            "  adding: content/telling-left-from-right/test_data/data/test_300/audio/qXv3M2LzLII_1580000_1590000.flac (deflated 1%)\n",
            "  adding: content/telling-left-from-right/test_data/data/test_300/audio/mdGleunr-qo_8270000_8280000.flac (deflated 1%)\n",
            "  adding: content/telling-left-from-right/test_data/data/test_300/audio/_2cCkYvKPVs_430000_440000.flac (deflated 1%)\n",
            "  adding: content/telling-left-from-right/test_data/data/test_300/audio/3_T0yaugZrc_790000_800000.flac (deflated 1%)\n",
            "  adding: content/telling-left-from-right/test_data/data/test_300/audio/AhwHlMd7YUw_1410000_1420000.flac (deflated 0%)\n",
            "  adding: content/telling-left-from-right/test_data/data/test_300/audio/o5tUGJc-0_o_3140000_3150000.flac (deflated 0%)\n",
            "  adding: content/telling-left-from-right/test_data/data/test_300/audio/VBKwmc3s6Ts_2020000_2030000.flac (deflated 1%)\n",
            "  adding: content/telling-left-from-right/test_data/data/test_300/audio/I5gp7r_I4Yk_160000_170000.flac (deflated 0%)\n",
            "  adding: content/telling-left-from-right/test_data/data/test_300/audio/I5gp7r_I4Yk_670000_680000.flac (deflated 0%)\n",
            "  adding: content/telling-left-from-right/test_data/data/test_300/audio/XgOL_lXZCnc_220000_230000.flac (deflated 1%)\n",
            "  adding: content/telling-left-from-right/test_data/data/test_300/audio/LqzOixBniZs_1850000_1860000.flac (deflated 1%)\n",
            "  adding: content/telling-left-from-right/test_data/data/test_300/audio/Z9Ih-PPTIWE_2040000_2050000.flac (deflated 1%)\n",
            "  adding: content/telling-left-from-right/test_data/data/test_300/audio/LqzOixBniZs_690000_700000.flac (deflated 1%)\n",
            "  adding: content/telling-left-from-right/test_data/data/test_300/audio/oOH5yF9CGyU_970000_980000.flac (deflated 1%)\n",
            "  adding: content/telling-left-from-right/test_data/data/test_300/audio/Z9Ih-PPTIWE_340000_350000.flac (deflated 1%)\n",
            "  adding: content/telling-left-from-right/test_data/data/test_300/audio/ozdDNG9z-Gs_60000_70000.flac (deflated 1%)\n",
            "  adding: content/telling-left-from-right/test_data/data/test_300/audio/XgOL_lXZCnc_1780000_1790000.flac (deflated 1%)\n",
            "  adding: content/telling-left-from-right/test_data/data/test_300/audio/o5tUGJc-0_o_3850000_3860000.flac (deflated 0%)\n",
            "  adding: content/telling-left-from-right/test_data/data/test_300/audio/3GOzg1c0EEw_280000_290000.flac (deflated 1%)\n",
            "  adding: content/telling-left-from-right/test_data/data/test_300/audio/lcvx8KOOapo_1260000_1270000.flac (deflated 1%)\n",
            "  adding: content/telling-left-from-right/test_data/data/test_300/audio/UfHPnimtqF8_250000_260000.flac (deflated 1%)\n",
            "  adding: content/telling-left-from-right/test_data/data/test_300/audio/0c1aOttn738_1280000_1290000.flac (deflated 1%)\n",
            "  adding: content/telling-left-from-right/test_data/data/test_300/audio/mdGleunr-qo_480000_490000.flac (deflated 0%)\n",
            "  adding: content/telling-left-from-right/test_data/data/test_300/audio/LqzOixBniZs_1300000_1310000.flac (deflated 1%)\n",
            "  adding: content/telling-left-from-right/test_data/data/test_300/audio/anRwt5fMMCA_280000_290000.flac (deflated 0%)\n",
            "  adding: content/telling-left-from-right/test_data/data/test_300/audio/ozdDNG9z-Gs_1010000_1020000.flac (deflated 0%)\n",
            "  adding: content/telling-left-from-right/test_data/data/test_300/audio/0c1aOttn738_1500000_1510000.flac (deflated 1%)\n",
            "  adding: content/telling-left-from-right/test_data/data/test_300/audio/o5tUGJc-0_o_2720000_2730000.flac (deflated 0%)\n",
            "  adding: content/telling-left-from-right/test_data/data/test_300/audio/J3LWAW8w7ik_1630000_1640000.flac (deflated 1%)\n",
            "  adding: content/telling-left-from-right/test_data/data/test_300/audio/Z9Ih-PPTIWE_820000_830000.flac (deflated 1%)\n",
            "  adding: content/telling-left-from-right/test_data/data/test_300/audio/7xIZoFhufbI_1390000_1400000.flac (deflated 1%)\n",
            "  adding: content/telling-left-from-right/test_data/data/test_300/audio/3GOzg1c0EEw_5910000_5920000.flac (deflated 1%)\n",
            "  adding: content/telling-left-from-right/test_data/data/test_300/audio/o5tUGJc-0_o_1130000_1140000.flac (deflated 0%)\n",
            "  adding: content/telling-left-from-right/test_data/data/test_300/audio/A5f6-eO5fZI_1410000_1420000.flac (deflated 1%)\n",
            "  adding: content/telling-left-from-right/test_data/data/test_300/audio/3_T0yaugZrc_540000_550000.flac (deflated 1%)\n",
            "  adding: content/telling-left-from-right/test_data/data/test_300/audio/A5f6-eO5fZI_1420000_1430000.flac (deflated 1%)\n",
            "  adding: content/telling-left-from-right/test_data/data/test_300/audio/LqzOixBniZs_700000_710000.flac (deflated 1%)\n",
            "  adding: content/telling-left-from-right/test_data/data/test_300/audio/ozdDNG9z-Gs_750000_760000.flac (deflated 1%)\n",
            "  adding: content/telling-left-from-right/test_data/data/test_300/audio/qXv3M2LzLII_30000_40000.flac (deflated 1%)\n",
            "  adding: content/telling-left-from-right/test_data/data/test_300/audio/mdGleunr-qo_3770000_3780000.flac (deflated 1%)\n",
            "  adding: content/telling-left-from-right/test_data/data/test_300/audio/HH7qFbvlpfg_1760000_1770000.flac (deflated 1%)\n",
            "  adding: content/telling-left-from-right/test_data/data/test_300/audio/AhwHlMd7YUw_1260000_1270000.flac (deflated 1%)\n",
            "  adding: content/telling-left-from-right/test_data/data/test_300/audio/UfHPnimtqF8_1900000_1910000.flac (deflated 1%)\n",
            "  adding: content/telling-left-from-right/test_data/data/test_300/audio/UfHPnimtqF8_1820000_1830000.flac (deflated 1%)\n",
            "  adding: content/telling-left-from-right/test_data/data/test_300/audio/P_Bvt4PI8Go_250000_260000.flac (deflated 1%)\n",
            "  adding: content/telling-left-from-right/test_data/data/test_300/audio/HH7qFbvlpfg_40000_50000.flac (deflated 1%)\n",
            "  adding: content/telling-left-from-right/test_data/data/test_300/audio/aWRlY-dIufc_780000_790000.flac (deflated 1%)\n",
            "  adding: content/telling-left-from-right/test_data/data/test_300/audio/7xIZoFhufbI_1320000_1330000.flac (deflated 1%)\n",
            "  adding: content/telling-left-from-right/test_data/data/test_300/audio/o5tUGJc-0_o_2900000_2910000.flac (deflated 1%)\n",
            "  adding: content/telling-left-from-right/test_data/data/test_300/audio/I5gp7r_I4Yk_110000_120000.flac (deflated 0%)\n",
            "  adding: content/telling-left-from-right/test_data/data/test_300/audio/MhmD-7pTlvI_90000_100000.flac (deflated 1%)\n",
            "  adding: content/telling-left-from-right/test_data/data/test_300/audio/J3LWAW8w7ik_220000_230000.flac (deflated 1%)\n",
            "  adding: content/telling-left-from-right/test_data/data/test_300/audio/3GOzg1c0EEw_9400000_9410000.flac (deflated 1%)\n",
            "  adding: content/telling-left-from-right/test_data/data/test_300/audio/aWRlY-dIufc_1140000_1150000.flac (deflated 1%)\n",
            "  adding: content/telling-left-from-right/test_data/data/test_300/audio/aWRlY-dIufc_230000_240000.flac (deflated 1%)\n",
            "  adding: content/telling-left-from-right/test_data/data/test_300/audio/aWRlY-dIufc_620000_630000.flac (deflated 1%)\n",
            "  adding: content/telling-left-from-right/test_data/data/test_300/audio/PwWwbsg5EDE_690000_700000.flac (deflated 1%)\n",
            "  adding: content/telling-left-from-right/test_data/data/test_300/audio/7xIZoFhufbI_560000_570000.flac (deflated 1%)\n",
            "  adding: content/telling-left-from-right/test_data/data/test_300/audio/aWRlY-dIufc_650000_660000.flac (deflated 1%)\n",
            "  adding: content/telling-left-from-right/test_data/data/test_300/audio/A5f6-eO5fZI_940000_950000.flac (deflated 0%)\n",
            "  adding: content/telling-left-from-right/test_data/data/test_300/audio/SpBWgL-_I-s_630000_640000.flac (deflated 1%)\n",
            "  adding: content/telling-left-from-right/test_data/data/test_300/audio/Z9Ih-PPTIWE_450000_460000.flac (deflated 0%)\n",
            "  adding: content/telling-left-from-right/test_data/data/test_300/audio/DKarJa25mjQ_1250000_1260000.flac (deflated 1%)\n",
            "  adding: content/telling-left-from-right/test_data/data/test_300/audio/aWRlY-dIufc_1090000_1100000.flac (deflated 1%)\n",
            "  adding: content/telling-left-from-right/test_data/data/test_300/audio/A5f6-eO5fZI_460000_470000.flac (deflated 1%)\n",
            "  adding: content/telling-left-from-right/test_data/data/test_300/audio/P_Bvt4PI8Go_330000_340000.flac (deflated 1%)\n",
            "  adding: content/telling-left-from-right/test_data/data/test_300/audio/AhwHlMd7YUw_1120000_1130000.flac (deflated 1%)\n",
            "  adding: content/telling-left-from-right/test_data/data/test_300/audio/_2cCkYvKPVs_40000_50000.flac (deflated 1%)\n",
            "  adding: content/telling-left-from-right/test_data/data/test_300/audio/anRwt5fMMCA_320000_330000.flac (deflated 0%)\n",
            "  adding: content/telling-left-from-right/test_data/data/test_300/audio/J3LWAW8w7ik_560000_570000.flac (deflated 1%)\n",
            "  adding: content/telling-left-from-right/test_data/data/test_300/audio/UfHPnimtqF8_280000_290000.flac (deflated 1%)\n",
            "  adding: content/telling-left-from-right/test_data/data/test_300/audio/I5gp7r_I4Yk_960000_970000.flac (deflated 0%)\n",
            "  adding: content/telling-left-from-right/test_data/data/test_300/audio/HH7qFbvlpfg_2050000_2060000.flac (deflated 1%)\n",
            "  adding: content/telling-left-from-right/test_data/data/test_300/audio/lcvx8KOOapo_1750000_1760000.flac (deflated 1%)\n",
            "  adding: content/telling-left-from-right/test_data/data/test_300/audio/ozdDNG9z-Gs_640000_650000.flac (deflated 1%)\n",
            "  adding: content/telling-left-from-right/test_data/data/test_300/audio/J3LWAW8w7ik_300000_310000.flac (deflated 1%)\n",
            "  adding: content/telling-left-from-right/test_data/data/test_300/audio/_2cCkYvKPVs_830000_840000.flac (deflated 1%)\n",
            "  adding: content/telling-left-from-right/test_data/data/test_300/audio/anRwt5fMMCA_460000_470000.flac (deflated 0%)\n",
            "  adding: content/telling-left-from-right/test_data/data/test_300/audio/lcvx8KOOapo_2060000_2070000.flac (deflated 1%)\n",
            "  adding: content/telling-left-from-right/test_data/data/test_300/audio/I5gp7r_I4Yk_400000_410000.flac (deflated 0%)\n",
            "  adding: content/telling-left-from-right/test_data/data/test_300/audio/LqzOixBniZs_650000_660000.flac (deflated 1%)\n",
            "  adding: content/telling-left-from-right/test_data/data/test_300/audio/A5f6-eO5fZI_1500000_1510000.flac (deflated 1%)\n",
            "  adding: content/telling-left-from-right/test_data/data/test_300/audio/VBKwmc3s6Ts_1310000_1320000.flac (deflated 1%)\n",
            "  adding: content/telling-left-from-right/test_data/data/test_300/audio/I5gp7r_I4Yk_640000_650000.flac (deflated 0%)\n",
            "  adding: content/telling-left-from-right/test_data/data/test_300/audio/7xIZoFhufbI_1190000_1200000.flac (deflated 1%)\n",
            "  adding: content/telling-left-from-right/test_data/data/test_300/audio/P_Bvt4PI8Go_960000_970000.flac (deflated 1%)\n",
            "  adding: content/telling-left-from-right/test_data/data/test_300/audio/_2cCkYvKPVs_370000_380000.flac (deflated 1%)\n",
            "  adding: content/telling-left-from-right/test_data/data/test_300/audio/A5f6-eO5fZI_450000_460000.flac (deflated 1%)\n",
            "  adding: content/telling-left-from-right/test_data/data/test_300/audio/I5gp7r_I4Yk_130000_140000.flac (deflated 0%)\n",
            "  adding: content/telling-left-from-right/test_data/data/test_300/audio/P_Bvt4PI8Go_610000_620000.flac (deflated 1%)\n",
            "  adding: content/telling-left-from-right/test_data/data/test_300/audio/0c1aOttn738_920000_930000.flac (deflated 1%)\n",
            "  adding: content/telling-left-from-right/test_data/data/test_300/audio/Z9Ih-PPTIWE_2220000_2230000.flac (deflated 1%)\n",
            "  adding: content/telling-left-from-right/test_data/data/test_300/audio/qXv3M2LzLII_650000_660000.flac (deflated 1%)\n",
            "  adding: content/telling-left-from-right/test_data/data/test_300/audio/HH7qFbvlpfg_480000_490000.flac (deflated 1%)\n",
            "  adding: content/telling-left-from-right/test_data/data/test_300/audio/AhwHlMd7YUw_1330000_1340000.flac (deflated 0%)\n",
            "  adding: content/telling-left-from-right/test_data/data/test_300/audio/MhmD-7pTlvI_240000_250000.flac (deflated 1%)\n",
            "  adding: content/telling-left-from-right/test_data/data/test_300/audio/o5tUGJc-0_o_5980000_5990000.flac (deflated 1%)\n",
            "  adding: content/telling-left-from-right/test_data/data/test_300/audio/P_Bvt4PI8Go_840000_850000.flac (deflated 1%)\n",
            "  adding: content/telling-left-from-right/test_data/data/test_300/audio/qXv3M2LzLII_300000_310000.flac (deflated 1%)\n",
            "  adding: content/telling-left-from-right/test_data/data/test_300/audio/3GOzg1c0EEw_8640000_8650000.flac (deflated 1%)\n",
            "  adding: content/telling-left-from-right/test_data/data/test_300/audio/A5f6-eO5fZI_1450000_1460000.flac (deflated 0%)\n",
            "  adding: content/telling-left-from-right/test_data/data/test_300/audio/ozdDNG9z-Gs_350000_360000.flac (deflated 1%)\n",
            "  adding: content/telling-left-from-right/test_data/data/test_300/audio/PwWwbsg5EDE_1440000_1450000.flac (deflated 1%)\n",
            "  adding: content/telling-left-from-right/test_data/data/test_300/audio/XgOL_lXZCnc_1810000_1820000.flac (deflated 1%)\n",
            "  adding: content/telling-left-from-right/test_data/data/test_300/audio/Z9Ih-PPTIWE_2490000_2500000.flac (deflated 1%)\n",
            "  adding: content/telling-left-from-right/test_data/data/test_300/audio/XgOL_lXZCnc_120000_130000.flac (deflated 1%)\n",
            "  adding: content/telling-left-from-right/test_data/data/test_300/audio/A5f6-eO5fZI_130000_140000.flac (deflated 0%)\n",
            "  adding: content/telling-left-from-right/test_data/data/test_300/audio/o5tUGJc-0_o_4520000_4530000.flac (deflated 0%)\n",
            "  adding: content/telling-left-from-right/test_data/data/test_300/audio/aWRlY-dIufc_280000_290000.flac (deflated 1%)\n",
            "  adding: content/telling-left-from-right/test_data/data/test_300/audio/J3LWAW8w7ik_900000_910000.flac (deflated 1%)\n",
            "  adding: content/telling-left-from-right/test_data/data/test_300/audio/ozdDNG9z-Gs_180000_190000.flac (deflated 0%)\n",
            "  adding: content/telling-left-from-right/test_data/data/test_300/audio/anRwt5fMMCA_250000_260000.flac (deflated 0%)\n",
            "  adding: content/telling-left-from-right/test_data/data/test_300/audio/JGV--l5DZsc_380000_390000.flac (deflated 1%)\n",
            "  adding: content/telling-left-from-right/test_data/data/test_300/audio/0c1aOttn738_1330000_1340000.flac (deflated 1%)\n",
            "  adding: content/telling-left-from-right/test_data/data/test_300/audio/VBKwmc3s6Ts_1290000_1300000.flac (deflated 1%)\n",
            "  adding: content/telling-left-from-right/test_data/data/test_300/audio/0c1aOttn738_1370000_1380000.flac (deflated 1%)\n",
            "  adding: content/telling-left-from-right/test_data/data/test_300/audio/7xIZoFhufbI_310000_320000.flac (deflated 1%)\n",
            "  adding: content/telling-left-from-right/test_data/data/test_300/audio/_2cCkYvKPVs_730000_740000.flac (deflated 1%)\n",
            "  adding: content/telling-left-from-right/test_data/data/test_300/audio/lcvx8KOOapo_680000_690000.flac (deflated 1%)\n",
            "  adding: content/telling-left-from-right/test_data/data/test_300/audio/lcvx8KOOapo_1420000_1430000.flac (deflated 1%)\n",
            "  adding: content/telling-left-from-right/test_data/data/test_300/audio/ozdDNG9z-Gs_480000_490000.flac (deflated 0%)\n",
            "  adding: content/telling-left-from-right/test_data/data/test_300/audio/anRwt5fMMCA_630000_640000.flac (deflated 0%)\n",
            "  adding: content/telling-left-from-right/test_data/data/test_300/audio/AhwHlMd7YUw_990000_1000000.flac (deflated 1%)\n",
            "  adding: content/telling-left-from-right/test_data/data/test_300/audio/A5f6-eO5fZI_710000_720000.flac (deflated 1%)\n",
            "  adding: content/telling-left-from-right/test_data/data/test_300/audio/AhwHlMd7YUw_1230000_1240000.flac (deflated 1%)\n",
            "  adding: content/telling-left-from-right/test_data/data/test_300/audio/VBKwmc3s6Ts_20000_30000.flac (deflated 1%)\n",
            "  adding: content/telling-left-from-right/test_data/data/test_300/audio/VBKwmc3s6Ts_610000_620000.flac (deflated 1%)\n",
            "  adding: content/telling-left-from-right/test_data/data/test_300/audio/PwWwbsg5EDE_660000_670000.flac (deflated 1%)\n",
            "  adding: content/telling-left-from-right/test_data/data/test_300/audio/XgOL_lXZCnc_760000_770000.flac (deflated 1%)\n",
            "  adding: content/telling-left-from-right/test_data/data/test_300/audio/PwWwbsg5EDE_1120000_1130000.flac (deflated 1%)\n",
            "  adding: content/telling-left-from-right/test_data/data/test_300/video/ (stored 0%)\n",
            "  adding: content/telling-left-from-right/test_data/data/test_300/video/_2cCkYvKPVs_490000_500000.mp4 (deflated 0%)\n",
            "  adding: content/telling-left-from-right/test_data/data/test_300/video/AhwHlMd7YUw_770000_780000.mp4 (deflated 0%)\n",
            "  adding: content/telling-left-from-right/test_data/data/test_300/video/aWRlY-dIufc_980000_990000.mp4 (deflated 1%)\n",
            "  adding: content/telling-left-from-right/test_data/data/test_300/video/LqzOixBniZs_700000_710000.mp4 (deflated 1%)\n",
            "  adding: content/telling-left-from-right/test_data/data/test_300/video/AhwHlMd7YUw_1100000_1110000.mp4 (deflated 1%)\n",
            "  adding: content/telling-left-from-right/test_data/data/test_300/video/HH7qFbvlpfg_1770000_1780000.mp4 (deflated 1%)\n",
            "  adding: content/telling-left-from-right/test_data/data/test_300/video/7xIZoFhufbI_1190000_1200000.mp4 (deflated 1%)\n",
            "  adding: content/telling-left-from-right/test_data/data/test_300/video/XgOL_lXZCnc_760000_770000.mp4 (deflated 0%)\n",
            "  adding: content/telling-left-from-right/test_data/data/test_300/video/oOH5yF9CGyU_420000_430000.mp4 (deflated 1%)\n",
            "  adding: content/telling-left-from-right/test_data/data/test_300/video/LqzOixBniZs_1300000_1310000.mp4 (deflated 1%)\n",
            "  adding: content/telling-left-from-right/test_data/data/test_300/video/_2cCkYvKPVs_380000_390000.mp4 (deflated 0%)\n",
            "  adding: content/telling-left-from-right/test_data/data/test_300/video/ozdDNG9z-Gs_1090000_1100000.mp4 (deflated 0%)\n",
            "  adding: content/telling-left-from-right/test_data/data/test_300/video/AhwHlMd7YUw_920000_930000.mp4 (deflated 0%)\n",
            "  adding: content/telling-left-from-right/test_data/data/test_300/video/7xIZoFhufbI_680000_690000.mp4 (deflated 1%)\n",
            "  adding: content/telling-left-from-right/test_data/data/test_300/video/Z9Ih-PPTIWE_2160000_2170000.mp4 (deflated 0%)\n",
            "  adding: content/telling-left-from-right/test_data/data/test_300/video/MhmD-7pTlvI_480000_490000.mp4 (deflated 0%)\n",
            "  adding: content/telling-left-from-right/test_data/data/test_300/video/J3LWAW8w7ik_810000_820000.mp4 (deflated 0%)\n",
            "  adding: content/telling-left-from-right/test_data/data/test_300/video/VBKwmc3s6Ts_780000_790000.mp4 (deflated 0%)\n",
            "  adding: content/telling-left-from-right/test_data/data/test_300/video/AhwHlMd7YUw_1330000_1340000.mp4 (deflated 1%)\n",
            "  adding: content/telling-left-from-right/test_data/data/test_300/video/I5gp7r_I4Yk_640000_650000.mp4 (deflated 1%)\n",
            "  adding: content/telling-left-from-right/test_data/data/test_300/video/o5tUGJc-0_o_3790000_3800000.mp4 (deflated 1%)\n",
            "  adding: content/telling-left-from-right/test_data/data/test_300/video/3_T0yaugZrc_1300000_1310000.mp4 (deflated 1%)\n",
            "  adding: content/telling-left-from-right/test_data/data/test_300/video/_2cCkYvKPVs_430000_440000.mp4 (deflated 1%)\n",
            "  adding: content/telling-left-from-right/test_data/data/test_300/video/SpBWgL-_I-s_230000_240000.mp4 (deflated 1%)\n",
            "  adding: content/telling-left-from-right/test_data/data/test_300/video/o5tUGJc-0_o_2720000_2730000.mp4 (deflated 0%)\n",
            "  adding: content/telling-left-from-right/test_data/data/test_300/video/UfHPnimtqF8_280000_290000.mp4 (deflated 0%)\n",
            "  adding: content/telling-left-from-right/test_data/data/test_300/video/VBKwmc3s6Ts_460000_470000.mp4 (deflated 0%)\n",
            "  adding: content/telling-left-from-right/test_data/data/test_300/video/aWRlY-dIufc_340000_350000.mp4 (deflated 0%)\n",
            "  adding: content/telling-left-from-right/test_data/data/test_300/video/o5tUGJc-0_o_200000_210000.mp4 (deflated 0%)\n",
            "  adding: content/telling-left-from-right/test_data/data/test_300/video/HH7qFbvlpfg_2280000_2290000.mp4 (deflated 0%)\n",
            "  adding: content/telling-left-from-right/test_data/data/test_300/video/XgOL_lXZCnc_1690000_1700000.mp4 (deflated 0%)\n",
            "  adding: content/telling-left-from-right/test_data/data/test_300/video/lcvx8KOOapo_1470000_1480000.mp4 (deflated 1%)\n",
            "  adding: content/telling-left-from-right/test_data/data/test_300/video/DKarJa25mjQ_1330000_1340000.mp4 (deflated 1%)\n",
            "  adding: content/telling-left-from-right/test_data/data/test_300/video/A5f6-eO5fZI_710000_720000.mp4 (deflated 0%)\n",
            "  adding: content/telling-left-from-right/test_data/data/test_300/video/mdGleunr-qo_3130000_3140000.mp4 (deflated 0%)\n",
            "  adding: content/telling-left-from-right/test_data/data/test_300/video/UfHPnimtqF8_650000_660000.mp4 (deflated 0%)\n",
            "  adding: content/telling-left-from-right/test_data/data/test_300/video/VBKwmc3s6Ts_20000_30000.mp4 (deflated 0%)\n",
            "  adding: content/telling-left-from-right/test_data/data/test_300/video/0c1aOttn738_1880000_1890000.mp4 (deflated 0%)\n",
            "  adding: content/telling-left-from-right/test_data/data/test_300/video/0c1aOttn738_30000_40000.mp4 (deflated 1%)\n",
            "  adding: content/telling-left-from-right/test_data/data/test_300/video/MhmD-7pTlvI_110000_120000.mp4 (deflated 1%)\n",
            "  adding: content/telling-left-from-right/test_data/data/test_300/video/HH7qFbvlpfg_0_10000.mp4 (deflated 0%)\n",
            "  adding: content/telling-left-from-right/test_data/data/test_300/video/anRwt5fMMCA_630000_640000.mp4 (deflated 1%)\n",
            "  adding: content/telling-left-from-right/test_data/data/test_300/video/HH7qFbvlpfg_1840000_1850000.mp4 (deflated 0%)\n",
            "  adding: content/telling-left-from-right/test_data/data/test_300/video/SpBWgL-_I-s_170000_180000.mp4 (deflated 1%)\n",
            "  adding: content/telling-left-from-right/test_data/data/test_300/video/Z9Ih-PPTIWE_2490000_2500000.mp4 (deflated 1%)\n",
            "  adding: content/telling-left-from-right/test_data/data/test_300/video/aWRlY-dIufc_540000_550000.mp4 (deflated 1%)\n",
            "  adding: content/telling-left-from-right/test_data/data/test_300/video/XgOL_lXZCnc_1810000_1820000.mp4 (deflated 0%)\n",
            "  adding: content/telling-left-from-right/test_data/data/test_300/video/anRwt5fMMCA_100000_110000.mp4 (deflated 1%)\n",
            "  adding: content/telling-left-from-right/test_data/data/test_300/video/P_Bvt4PI8Go_250000_260000.mp4 (deflated 1%)\n",
            "  adding: content/telling-left-from-right/test_data/data/test_300/video/Z9Ih-PPTIWE_730000_740000.mp4 (deflated 1%)\n",
            "  adding: content/telling-left-from-right/test_data/data/test_300/video/mdGleunr-qo_8620000_8630000.mp4 (deflated 1%)\n",
            "  adding: content/telling-left-from-right/test_data/data/test_300/video/A5f6-eO5fZI_1420000_1430000.mp4 (deflated 0%)\n",
            "  adding: content/telling-left-from-right/test_data/data/test_300/video/J3LWAW8w7ik_710000_720000.mp4 (deflated 0%)\n",
            "  adding: content/telling-left-from-right/test_data/data/test_300/video/ozdDNG9z-Gs_900000_910000.mp4 (deflated 0%)\n",
            "  adding: content/telling-left-from-right/test_data/data/test_300/video/3GOzg1c0EEw_5910000_5920000.mp4 (deflated 1%)\n",
            "  adding: content/telling-left-from-right/test_data/data/test_300/video/mdGleunr-qo_8270000_8280000.mp4 (deflated 0%)\n",
            "  adding: content/telling-left-from-right/test_data/data/test_300/video/P_Bvt4PI8Go_840000_850000.mp4 (deflated 0%)\n",
            "  adding: content/telling-left-from-right/test_data/data/test_300/video/aWRlY-dIufc_650000_660000.mp4 (deflated 0%)\n",
            "  adding: content/telling-left-from-right/test_data/data/test_300/video/qXv3M2LzLII_650000_660000.mp4 (deflated 1%)\n",
            "  adding: content/telling-left-from-right/test_data/data/test_300/video/3_T0yaugZrc_50000_60000.mp4 (deflated 1%)\n",
            "  adding: content/telling-left-from-right/test_data/data/test_300/video/A5f6-eO5fZI_1500000_1510000.mp4 (deflated 0%)\n",
            "  adding: content/telling-left-from-right/test_data/data/test_300/video/qXv3M2LzLII_300000_310000.mp4 (deflated 1%)\n",
            "  adding: content/telling-left-from-right/test_data/data/test_300/video/anRwt5fMMCA_280000_290000.mp4 (deflated 0%)\n",
            "  adding: content/telling-left-from-right/test_data/data/test_300/video/Z9Ih-PPTIWE_340000_350000.mp4 (deflated 1%)\n",
            "  adding: content/telling-left-from-right/test_data/data/test_300/video/MhmD-7pTlvI_930000_940000.mp4 (deflated 0%)\n",
            "  adding: content/telling-left-from-right/test_data/data/test_300/video/AhwHlMd7YUw_990000_1000000.mp4 (deflated 0%)\n",
            "  adding: content/telling-left-from-right/test_data/data/test_300/video/HH7qFbvlpfg_480000_490000.mp4 (deflated 1%)\n",
            "  adding: content/telling-left-from-right/test_data/data/test_300/video/o5tUGJc-0_o_1130000_1140000.mp4 (deflated 0%)\n",
            "  adding: content/telling-left-from-right/test_data/data/test_300/video/3_T0yaugZrc_1250000_1260000.mp4 (deflated 1%)\n",
            "  adding: content/telling-left-from-right/test_data/data/test_300/video/aWRlY-dIufc_1090000_1100000.mp4 (deflated 0%)\n",
            "  adding: content/telling-left-from-right/test_data/data/test_300/video/SpBWgL-_I-s_690000_700000.mp4 (deflated 0%)\n",
            "  adding: content/telling-left-from-right/test_data/data/test_300/video/3_T0yaugZrc_790000_800000.mp4 (deflated 1%)\n",
            "  adding: content/telling-left-from-right/test_data/data/test_300/video/0c1aOttn738_420000_430000.mp4 (deflated 1%)\n",
            "  adding: content/telling-left-from-right/test_data/data/test_300/video/3GOzg1c0EEw_8640000_8650000.mp4 (deflated 1%)\n",
            "  adding: content/telling-left-from-right/test_data/data/test_300/video/MhmD-7pTlvI_90000_100000.mp4 (deflated 0%)\n",
            "  adding: content/telling-left-from-right/test_data/data/test_300/video/lcvx8KOOapo_1420000_1430000.mp4 (deflated 1%)\n",
            "  adding: content/telling-left-from-right/test_data/data/test_300/video/MhmD-7pTlvI_1130000_1140000.mp4 (deflated 0%)\n",
            "  adding: content/telling-left-from-right/test_data/data/test_300/video/UfHPnimtqF8_1900000_1910000.mp4 (deflated 0%)\n",
            "  adding: content/telling-left-from-right/test_data/data/test_300/video/_2cCkYvKPVs_40000_50000.mp4 (deflated 0%)\n",
            "  adding: content/telling-left-from-right/test_data/data/test_300/video/PwWwbsg5EDE_120000_130000.mp4 (deflated 0%)\n",
            "  adding: content/telling-left-from-right/test_data/data/test_300/video/mdGleunr-qo_480000_490000.mp4 (deflated 1%)\n",
            "  adding: content/telling-left-from-right/test_data/data/test_300/video/_2cCkYvKPVs_500000_510000.mp4 (deflated 0%)\n",
            "  adding: content/telling-left-from-right/test_data/data/test_300/video/A5f6-eO5fZI_1140000_1150000.mp4 (deflated 0%)\n",
            "  adding: content/telling-left-from-right/test_data/data/test_300/video/HH7qFbvlpfg_40000_50000.mp4 (deflated 0%)\n",
            "  adding: content/telling-left-from-right/test_data/data/test_300/video/UfHPnimtqF8_800000_810000.mp4 (deflated 0%)\n",
            "  adding: content/telling-left-from-right/test_data/data/test_300/video/A5f6-eO5fZI_1390000_1400000.mp4 (deflated 0%)\n",
            "  adding: content/telling-left-from-right/test_data/data/test_300/video/ozdDNG9z-Gs_210000_220000.mp4 (deflated 0%)\n",
            "  adding: content/telling-left-from-right/test_data/data/test_300/video/anRwt5fMMCA_20000_30000.mp4 (deflated 1%)\n",
            "  adding: content/telling-left-from-right/test_data/data/test_300/video/lcvx8KOOapo_1750000_1760000.mp4 (deflated 1%)\n",
            "  adding: content/telling-left-from-right/test_data/data/test_300/video/ozdDNG9z-Gs_480000_490000.mp4 (deflated 1%)\n",
            "  adding: content/telling-left-from-right/test_data/data/test_300/video/0c1aOttn738_920000_930000.mp4 (deflated 0%)\n",
            "  adding: content/telling-left-from-right/test_data/data/test_300/video/0c1aOttn738_1500000_1510000.mp4 (deflated 1%)\n",
            "  adding: content/telling-left-from-right/test_data/data/test_300/video/UfHPnimtqF8_910000_920000.mp4 (deflated 0%)\n",
            "  adding: content/telling-left-from-right/test_data/data/test_300/video/XgOL_lXZCnc_120000_130000.mp4 (deflated 1%)\n",
            "  adding: content/telling-left-from-right/test_data/data/test_300/video/Z9Ih-PPTIWE_1150000_1160000.mp4 (deflated 1%)\n",
            "  adding: content/telling-left-from-right/test_data/data/test_300/video/I5gp7r_I4Yk_690000_700000.mp4 (deflated 1%)\n",
            "  adding: content/telling-left-from-right/test_data/data/test_300/video/ozdDNG9z-Gs_1010000_1020000.mp4 (deflated 0%)\n",
            "  adding: content/telling-left-from-right/test_data/data/test_300/video/HH7qFbvlpfg_1430000_1440000.mp4 (deflated 1%)\n",
            "  adding: content/telling-left-from-right/test_data/data/test_300/video/PwWwbsg5EDE_1440000_1450000.mp4 (deflated 0%)\n",
            "  adding: content/telling-left-from-right/test_data/data/test_300/video/_2cCkYvKPVs_670000_680000.mp4 (deflated 1%)\n",
            "  adding: content/telling-left-from-right/test_data/data/test_300/video/oOH5yF9CGyU_970000_980000.mp4 (deflated 1%)\n",
            "  adding: content/telling-left-from-right/test_data/data/test_300/video/DKarJa25mjQ_1250000_1260000.mp4 (deflated 1%)\n",
            "  adding: content/telling-left-from-right/test_data/data/test_300/video/7xIZoFhufbI_110000_120000.mp4 (deflated 0%)\n",
            "  adding: content/telling-left-from-right/test_data/data/test_300/video/A5f6-eO5fZI_940000_950000.mp4 (deflated 0%)\n",
            "  adding: content/telling-left-from-right/test_data/data/test_300/video/o5tUGJc-0_o_3850000_3860000.mp4 (deflated 0%)\n",
            "  adding: content/telling-left-from-right/test_data/data/test_300/video/3_T0yaugZrc_300000_310000.mp4 (deflated 1%)\n",
            "  adding: content/telling-left-from-right/test_data/data/test_300/video/UfHPnimtqF8_1160000_1170000.mp4 (deflated 0%)\n",
            "  adding: content/telling-left-from-right/test_data/data/test_300/video/J3LWAW8w7ik_220000_230000.mp4 (deflated 0%)\n",
            "  adding: content/telling-left-from-right/test_data/data/test_300/video/Z9Ih-PPTIWE_1090000_1100000.mp4 (deflated 1%)\n",
            "  adding: content/telling-left-from-right/test_data/data/test_300/video/0c1aOttn738_1330000_1340000.mp4 (deflated 0%)\n",
            "  adding: content/telling-left-from-right/test_data/data/test_300/video/aWRlY-dIufc_50000_60000.mp4 (deflated 0%)\n",
            "  adding: content/telling-left-from-right/test_data/data/test_300/video/ozdDNG9z-Gs_180000_190000.mp4 (deflated 1%)\n",
            "  adding: content/telling-left-from-right/test_data/data/test_300/video/SpBWgL-_I-s_1080000_1090000.mp4 (deflated 0%)\n",
            "  adding: content/telling-left-from-right/test_data/data/test_300/video/lcvx8KOOapo_2060000_2070000.mp4 (deflated 1%)\n",
            "  adding: content/telling-left-from-right/test_data/data/test_300/video/0c1aOttn738_1370000_1380000.mp4 (deflated 0%)\n",
            "  adding: content/telling-left-from-right/test_data/data/test_300/video/3GOzg1c0EEw_280000_290000.mp4 (deflated 1%)\n",
            "  adding: content/telling-left-from-right/test_data/data/test_300/video/qXv3M2LzLII_1580000_1590000.mp4 (deflated 1%)\n",
            "  adding: content/telling-left-from-right/test_data/data/test_300/video/MhmD-7pTlvI_1430000_1440000.mp4 (deflated 0%)\n",
            "  adding: content/telling-left-from-right/test_data/data/test_300/video/anRwt5fMMCA_570000_580000.mp4 (deflated 1%)\n",
            "  adding: content/telling-left-from-right/test_data/data/test_300/video/XgOL_lXZCnc_1780000_1790000.mp4 (deflated 0%)\n",
            "  adding: content/telling-left-from-right/test_data/data/test_300/video/MhmD-7pTlvI_1240000_1250000.mp4 (deflated 0%)\n",
            "  adding: content/telling-left-from-right/test_data/data/test_300/video/3_T0yaugZrc_1350000_1360000.mp4 (deflated 1%)\n",
            "  adding: content/telling-left-from-right/test_data/data/test_300/video/AhwHlMd7YUw_1070000_1080000.mp4 (deflated 1%)\n",
            "  adding: content/telling-left-from-right/test_data/data/test_300/video/UfHPnimtqF8_1820000_1830000.mp4 (deflated 0%)\n",
            "  adding: content/telling-left-from-right/test_data/data/test_300/video/P_Bvt4PI8Go_610000_620000.mp4 (deflated 0%)\n",
            "  adding: content/telling-left-from-right/test_data/data/test_300/video/XgOL_lXZCnc_790000_800000.mp4 (deflated 1%)\n",
            "  adding: content/telling-left-from-right/test_data/data/test_300/video/LqzOixBniZs_180000_190000.mp4 (deflated 1%)\n",
            "  adding: content/telling-left-from-right/test_data/data/test_300/video/J3LWAW8w7ik_300000_310000.mp4 (deflated 0%)\n",
            "  adding: content/telling-left-from-right/test_data/data/test_300/video/HH7qFbvlpfg_350000_360000.mp4 (deflated 1%)\n",
            "  adding: content/telling-left-from-right/test_data/data/test_300/video/HH7qFbvlpfg_2430000_2440000.mp4 (deflated 0%)\n",
            "  adding: content/telling-left-from-right/test_data/data/test_300/video/P_Bvt4PI8Go_960000_970000.mp4 (deflated 1%)\n",
            "  adding: content/telling-left-from-right/test_data/data/test_300/video/lcvx8KOOapo_1260000_1270000.mp4 (deflated 1%)\n",
            "  adding: content/telling-left-from-right/test_data/data/test_300/video/VBKwmc3s6Ts_1310000_1320000.mp4 (deflated 0%)\n",
            "  adding: content/telling-left-from-right/test_data/data/test_300/video/UfHPnimtqF8_250000_260000.mp4 (deflated 0%)\n",
            "  adding: content/telling-left-from-right/test_data/data/test_300/video/7xIZoFhufbI_560000_570000.mp4 (deflated 0%)\n",
            "  adding: content/telling-left-from-right/test_data/data/test_300/video/aWRlY-dIufc_280000_290000.mp4 (deflated 1%)\n",
            "  adding: content/telling-left-from-right/test_data/data/test_300/video/3_T0yaugZrc_1390000_1400000.mp4 (deflated 1%)\n",
            "  adding: content/telling-left-from-right/test_data/data/test_300/video/0c1aOttn738_240000_250000.mp4 (deflated 1%)\n",
            "  adding: content/telling-left-from-right/test_data/data/test_300/video/Z9Ih-PPTIWE_820000_830000.mp4 (deflated 1%)\n",
            "  adding: content/telling-left-from-right/test_data/data/test_300/video/7xIZoFhufbI_1320000_1330000.mp4 (deflated 1%)\n",
            "  adding: content/telling-left-from-right/test_data/data/test_300/video/AhwHlMd7YUw_1120000_1130000.mp4 (deflated 0%)\n",
            "  adding: content/telling-left-from-right/test_data/data/test_300/video/MhmD-7pTlvI_690000_700000.mp4 (deflated 0%)\n",
            "  adding: content/telling-left-from-right/test_data/data/test_300/video/XgOL_lXZCnc_860000_870000.mp4 (deflated 1%)\n",
            "  adding: content/telling-left-from-right/test_data/data/test_300/video/anRwt5fMMCA_700000_710000.mp4 (deflated 1%)\n",
            "  adding: content/telling-left-from-right/test_data/data/test_300/video/LqzOixBniZs_650000_660000.mp4 (deflated 1%)\n",
            "  adding: content/telling-left-from-right/test_data/data/test_300/video/J3LWAW8w7ik_900000_910000.mp4 (deflated 1%)\n",
            "  adding: content/telling-left-from-right/test_data/data/test_300/video/P_Bvt4PI8Go_1840000_1850000.mp4 (deflated 0%)\n",
            "  adding: content/telling-left-from-right/test_data/data/test_300/video/0c1aOttn738_1650000_1660000.mp4 (deflated 1%)\n",
            "  adding: content/telling-left-from-right/test_data/data/test_300/video/Z9Ih-PPTIWE_1330000_1340000.mp4 (deflated 1%)\n",
            "  adding: content/telling-left-from-right/test_data/data/test_300/video/UfHPnimtqF8_1500000_1510000.mp4 (deflated 0%)\n",
            "  adding: content/telling-left-from-right/test_data/data/test_300/video/qXv3M2LzLII_480000_490000.mp4 (deflated 0%)\n",
            "  adding: content/telling-left-from-right/test_data/data/test_300/video/A5f6-eO5fZI_1460000_1470000.mp4 (deflated 0%)\n",
            "  adding: content/telling-left-from-right/test_data/data/test_300/video/qXv3M2LzLII_30000_40000.mp4 (deflated 0%)\n",
            "  adding: content/telling-left-from-right/test_data/data/test_300/video/XgOL_lXZCnc_720000_730000.mp4 (deflated 1%)\n",
            "  adding: content/telling-left-from-right/test_data/data/test_300/video/UfHPnimtqF8_780000_790000.mp4 (deflated 0%)\n",
            "  adding: content/telling-left-from-right/test_data/data/test_300/video/ozdDNG9z-Gs_350000_360000.mp4 (deflated 0%)\n",
            "  adding: content/telling-left-from-right/test_data/data/test_300/video/anRwt5fMMCA_460000_470000.mp4 (deflated 1%)\n",
            "  adding: content/telling-left-from-right/test_data/data/test_300/video/aWRlY-dIufc_780000_790000.mp4 (deflated 1%)\n",
            "  adding: content/telling-left-from-right/test_data/data/test_300/video/ozdDNG9z-Gs_160000_170000.mp4 (deflated 1%)\n",
            "  adding: content/telling-left-from-right/test_data/data/test_300/video/3_T0yaugZrc_540000_550000.mp4 (deflated 1%)\n",
            "  adding: content/telling-left-from-right/test_data/data/test_300/video/AhwHlMd7YUw_810000_820000.mp4 (deflated 0%)\n",
            "  adding: content/telling-left-from-right/test_data/data/test_300/video/I5gp7r_I4Yk_1000000_1010000.mp4 (deflated 1%)\n",
            "  adding: content/telling-left-from-right/test_data/data/test_300/video/J3LWAW8w7ik_1110000_1120000.mp4 (deflated 0%)\n",
            "  adding: content/telling-left-from-right/test_data/data/test_300/video/7xIZoFhufbI_310000_320000.mp4 (deflated 0%)\n",
            "  adding: content/telling-left-from-right/test_data/data/test_300/video/lcvx8KOOapo_620000_630000.mp4 (deflated 1%)\n",
            "  adding: content/telling-left-from-right/test_data/data/test_300/video/VBKwmc3s6Ts_1300000_1310000.mp4 (deflated 0%)\n",
            "  adding: content/telling-left-from-right/test_data/data/test_300/video/qXv3M2LzLII_820000_830000.mp4 (deflated 0%)\n",
            "  adding: content/telling-left-from-right/test_data/data/test_300/video/AhwHlMd7YUw_300000_310000.mp4 (deflated 0%)\n",
            "  adding: content/telling-left-from-right/test_data/data/test_300/video/SpBWgL-_I-s_630000_640000.mp4 (deflated 0%)\n",
            "  adding: content/telling-left-from-right/test_data/data/test_300/video/aWRlY-dIufc_1140000_1150000.mp4 (deflated 0%)\n",
            "  adding: content/telling-left-from-right/test_data/data/test_300/video/_2cCkYvKPVs_340000_350000.mp4 (deflated 1%)\n",
            "  adding: content/telling-left-from-right/test_data/data/test_300/video/XgOL_lXZCnc_700000_710000.mp4 (deflated 1%)\n",
            "  adding: content/telling-left-from-right/test_data/data/test_300/video/AhwHlMd7YUw_820000_830000.mp4 (deflated 0%)\n",
            "  adding: content/telling-left-from-right/test_data/data/test_300/video/anRwt5fMMCA_680000_690000.mp4 (deflated 0%)\n",
            "  adding: content/telling-left-from-right/test_data/data/test_300/video/I5gp7r_I4Yk_960000_970000.mp4 (deflated 1%)\n",
            "  adding: content/telling-left-from-right/test_data/data/test_300/video/LqzOixBniZs_780000_790000.mp4 (deflated 1%)\n",
            "  adding: content/telling-left-from-right/test_data/data/test_300/video/mdGleunr-qo_4780000_4790000.mp4 (deflated 0%)\n",
            "  adding: content/telling-left-from-right/test_data/data/test_300/video/aWRlY-dIufc_230000_240000.mp4 (deflated 1%)\n",
            "  adding: content/telling-left-from-right/test_data/data/test_300/video/MhmD-7pTlvI_560000_570000.mp4 (deflated 0%)\n",
            "  adding: content/telling-left-from-right/test_data/data/test_300/video/MhmD-7pTlvI_240000_250000.mp4 (deflated 0%)\n",
            "  adding: content/telling-left-from-right/test_data/data/test_300/video/I5gp7r_I4Yk_110000_120000.mp4 (deflated 1%)\n",
            "  adding: content/telling-left-from-right/test_data/data/test_300/video/VBKwmc3s6Ts_1290000_1300000.mp4 (deflated 0%)\n",
            "  adding: content/telling-left-from-right/test_data/data/test_300/video/MhmD-7pTlvI_1060000_1070000.mp4 (deflated 0%)\n",
            "  adding: content/telling-left-from-right/test_data/data/test_300/video/SpBWgL-_I-s_610000_620000.mp4 (deflated 0%)\n",
            "  adding: content/telling-left-from-right/test_data/data/test_300/video/MhmD-7pTlvI_1230000_1240000.mp4 (deflated 1%)\n",
            "  adding: content/telling-left-from-right/test_data/data/test_300/video/_2cCkYvKPVs_830000_840000.mp4 (deflated 0%)\n",
            "  adding: content/telling-left-from-right/test_data/data/test_300/video/3_T0yaugZrc_910000_920000.mp4 (deflated 1%)\n",
            "  adding: content/telling-left-from-right/test_data/data/test_300/video/o5tUGJc-0_o_150000_160000.mp4 (deflated 1%)\n",
            "  adding: content/telling-left-from-right/test_data/data/test_300/video/qXv3M2LzLII_1390000_1400000.mp4 (deflated 1%)\n",
            "  adding: content/telling-left-from-right/test_data/data/test_300/video/PwWwbsg5EDE_1120000_1130000.mp4 (deflated 0%)\n",
            "  adding: content/telling-left-from-right/test_data/data/test_300/video/0c1aOttn738_2070000_2080000.mp4 (deflated 0%)\n",
            "  adding: content/telling-left-from-right/test_data/data/test_300/video/anRwt5fMMCA_320000_330000.mp4 (deflated 0%)\n",
            "  adding: content/telling-left-from-right/test_data/data/test_300/video/ozdDNG9z-Gs_770000_780000.mp4 (deflated 0%)\n",
            "  adding: content/telling-left-from-right/test_data/data/test_300/video/_2cCkYvKPVs_730000_740000.mp4 (deflated 0%)\n",
            "  adding: content/telling-left-from-right/test_data/data/test_300/video/VBKwmc3s6Ts_1100000_1110000.mp4 (deflated 0%)\n",
            "  adding: content/telling-left-from-right/test_data/data/test_300/video/SpBWgL-_I-s_330000_340000.mp4 (deflated 1%)\n",
            "  adding: content/telling-left-from-right/test_data/data/test_300/video/SpBWgL-_I-s_190000_200000.mp4 (deflated 1%)\n",
            "  adding: content/telling-left-from-right/test_data/data/test_300/video/7xIZoFhufbI_150000_160000.mp4 (deflated 0%)\n",
            "  adding: content/telling-left-from-right/test_data/data/test_300/video/J3LWAW8w7ik_770000_780000.mp4 (deflated 0%)\n",
            "  adding: content/telling-left-from-right/test_data/data/test_300/video/A5f6-eO5fZI_130000_140000.mp4 (deflated 0%)\n",
            "  adding: content/telling-left-from-right/test_data/data/test_300/video/lcvx8KOOapo_680000_690000.mp4 (deflated 1%)\n",
            "  adding: content/telling-left-from-right/test_data/data/test_300/video/J3LWAW8w7ik_140000_150000.mp4 (deflated 0%)\n",
            "  adding: content/telling-left-from-right/test_data/data/test_300/video/A5f6-eO5fZI_1410000_1420000.mp4 (deflated 0%)\n",
            "  adding: content/telling-left-from-right/test_data/data/test_300/video/XgOL_lXZCnc_1000000_1010000.mp4 (deflated 1%)\n",
            "  adding: content/telling-left-from-right/test_data/data/test_300/video/lcvx8KOOapo_1830000_1840000.mp4 (deflated 1%)\n",
            "  adding: content/telling-left-from-right/test_data/data/test_300/video/aWRlY-dIufc_620000_630000.mp4 (deflated 0%)\n",
            "  adding: content/telling-left-from-right/test_data/data/test_300/video/VBKwmc3s6Ts_910000_920000.mp4 (deflated 0%)\n",
            "  adding: content/telling-left-from-right/test_data/data/test_300/video/3_T0yaugZrc_1060000_1070000.mp4 (deflated 1%)\n",
            "  adding: content/telling-left-from-right/test_data/data/test_300/video/P_Bvt4PI8Go_680000_690000.mp4 (deflated 0%)\n",
            "  adding: content/telling-left-from-right/test_data/data/test_300/video/lcvx8KOOapo_690000_700000.mp4 (deflated 0%)\n",
            "  adding: content/telling-left-from-right/test_data/data/test_300/video/LqzOixBniZs_690000_700000.mp4 (deflated 1%)\n",
            "  adding: content/telling-left-from-right/test_data/data/test_300/video/UfHPnimtqF8_2110000_2120000.mp4 (deflated 0%)\n",
            "  adding: content/telling-left-from-right/test_data/data/test_300/video/AhwHlMd7YUw_1230000_1240000.mp4 (deflated 0%)\n",
            "  adding: content/telling-left-from-right/test_data/data/test_300/video/UfHPnimtqF8_190000_200000.mp4 (deflated 0%)\n",
            "  adding: content/telling-left-from-right/test_data/data/test_300/video/anRwt5fMMCA_130000_140000.mp4 (deflated 1%)\n",
            "  adding: content/telling-left-from-right/test_data/data/test_300/video/ozdDNG9z-Gs_750000_760000.mp4 (deflated 1%)\n",
            "  adding: content/telling-left-from-right/test_data/data/test_300/video/JGV--l5DZsc_510000_520000.mp4 (deflated 1%)\n",
            "  adding: content/telling-left-from-right/test_data/data/test_300/video/P_Bvt4PI8Go_1070000_1080000.mp4 (deflated 0%)\n",
            "  adding: content/telling-left-from-right/test_data/data/test_300/video/o5tUGJc-0_o_4520000_4530000.mp4 (deflated 0%)\n",
            "  adding: content/telling-left-from-right/test_data/data/test_300/video/lcvx8KOOapo_570000_580000.mp4 (deflated 1%)\n",
            "  adding: content/telling-left-from-right/test_data/data/test_300/video/A5f6-eO5fZI_1450000_1460000.mp4 (deflated 0%)\n",
            "  adding: content/telling-left-from-right/test_data/data/test_300/video/I5gp7r_I4Yk_670000_680000.mp4 (deflated 1%)\n",
            "  adding: content/telling-left-from-right/test_data/data/test_300/video/Z9Ih-PPTIWE_450000_460000.mp4 (deflated 1%)\n",
            "  adding: content/telling-left-from-right/test_data/data/test_300/video/lcvx8KOOapo_470000_480000.mp4 (deflated 1%)\n",
            "  adding: content/telling-left-from-right/test_data/data/test_300/video/P_Bvt4PI8Go_330000_340000.mp4 (deflated 0%)\n",
            "  adding: content/telling-left-from-right/test_data/data/test_300/video/qXv3M2LzLII_1630000_1640000.mp4 (deflated 2%)\n",
            "  adding: content/telling-left-from-right/test_data/data/test_300/video/AhwHlMd7YUw_1260000_1270000.mp4 (deflated 0%)\n",
            "  adding: content/telling-left-from-right/test_data/data/test_300/video/LqzOixBniZs_2110000_2120000.mp4 (deflated 0%)\n",
            "  adding: content/telling-left-from-right/test_data/data/test_300/video/SpBWgL-_I-s_50000_60000.mp4 (deflated 1%)\n",
            "  adding: content/telling-left-from-right/test_data/data/test_300/video/ozdDNG9z-Gs_650000_660000.mp4 (deflated 1%)\n",
            "  adding: content/telling-left-from-right/test_data/data/test_300/video/o5tUGJc-0_o_3140000_3150000.mp4 (deflated 0%)\n",
            "  adding: content/telling-left-from-right/test_data/data/test_300/video/XgOL_lXZCnc_220000_230000.mp4 (deflated 1%)\n",
            "  adding: content/telling-left-from-right/test_data/data/test_300/video/XgOL_lXZCnc_1460000_1470000.mp4 (deflated 1%)\n",
            "  adding: content/telling-left-from-right/test_data/data/test_300/video/mdGleunr-qo_3770000_3780000.mp4 (deflated 1%)\n",
            "  adding: content/telling-left-from-right/test_data/data/test_300/video/I5gp7r_I4Yk_130000_140000.mp4 (deflated 1%)\n",
            "  adding: content/telling-left-from-right/test_data/data/test_300/video/A5f6-eO5fZI_580000_590000.mp4 (deflated 0%)\n",
            "  adding: content/telling-left-from-right/test_data/data/test_300/video/J3LWAW8w7ik_1630000_1640000.mp4 (deflated 0%)\n",
            "  adding: content/telling-left-from-right/test_data/data/test_300/video/PwWwbsg5EDE_660000_670000.mp4 (deflated 0%)\n",
            "  adding: content/telling-left-from-right/test_data/data/test_300/video/AhwHlMd7YUw_1410000_1420000.mp4 (deflated 0%)\n",
            "  adding: content/telling-left-from-right/test_data/data/test_300/video/lcvx8KOOapo_50000_60000.mp4 (deflated 1%)\n",
            "  adding: content/telling-left-from-right/test_data/data/test_300/video/HH7qFbvlpfg_110000_120000.mp4 (deflated 0%)\n",
            "  adding: content/telling-left-from-right/test_data/data/test_300/video/I5gp7r_I4Yk_400000_410000.mp4 (deflated 1%)\n",
            "  adding: content/telling-left-from-right/test_data/data/test_300/video/qXv3M2LzLII_600000_610000.mp4 (deflated 0%)\n",
            "  adding: content/telling-left-from-right/test_data/data/test_300/video/P_Bvt4PI8Go_2330000_2340000.mp4 (deflated 0%)\n",
            "  adding: content/telling-left-from-right/test_data/data/test_300/video/ozdDNG9z-Gs_60000_70000.mp4 (deflated 0%)\n",
            "  adding: content/telling-left-from-right/test_data/data/test_300/video/J3LWAW8w7ik_370000_380000.mp4 (deflated 0%)\n",
            "  adding: content/telling-left-from-right/test_data/data/test_300/video/0c1aOttn738_570000_580000.mp4 (deflated 0%)\n",
            "  adding: content/telling-left-from-right/test_data/data/test_300/video/HH7qFbvlpfg_2050000_2060000.mp4 (deflated 1%)\n",
            "  adding: content/telling-left-from-right/test_data/data/test_300/video/P_Bvt4PI8Go_170000_180000.mp4 (deflated 0%)\n",
            "  adding: content/telling-left-from-right/test_data/data/test_300/video/_2cCkYvKPVs_100000_110000.mp4 (deflated 0%)\n",
            "  adding: content/telling-left-from-right/test_data/data/test_300/video/_2cCkYvKPVs_570000_580000.mp4 (deflated 0%)\n",
            "  adding: content/telling-left-from-right/test_data/data/test_300/video/Z9Ih-PPTIWE_1460000_1470000.mp4 (deflated 1%)\n",
            "  adding: content/telling-left-from-right/test_data/data/test_300/video/A5f6-eO5fZI_450000_460000.mp4 (deflated 0%)\n",
            "  adding: content/telling-left-from-right/test_data/data/test_300/video/o5tUGJc-0_o_3920000_3930000.mp4 (deflated 0%)\n",
            "  adding: content/telling-left-from-right/test_data/data/test_300/video/HH7qFbvlpfg_1760000_1770000.mp4 (deflated 0%)\n",
            "  adding: content/telling-left-from-right/test_data/data/test_300/video/Z9Ih-PPTIWE_650000_660000.mp4 (deflated 1%)\n",
            "  adding: content/telling-left-from-right/test_data/data/test_300/video/o5tUGJc-0_o_2900000_2910000.mp4 (deflated 0%)\n",
            "  adding: content/telling-left-from-right/test_data/data/test_300/video/qXv3M2LzLII_1070000_1080000.mp4 (deflated 0%)\n",
            "  adding: content/telling-left-from-right/test_data/data/test_300/video/3_T0yaugZrc_350000_360000.mp4 (deflated 1%)\n",
            "  adding: content/telling-left-from-right/test_data/data/test_300/video/LqzOixBniZs_1880000_1890000.mp4 (deflated 1%)\n",
            "  adding: content/telling-left-from-right/test_data/data/test_300/video/anRwt5fMMCA_250000_260000.mp4 (deflated 0%)\n",
            "  adding: content/telling-left-from-right/test_data/data/test_300/video/VBKwmc3s6Ts_2020000_2030000.mp4 (deflated 0%)\n",
            "  adding: content/telling-left-from-right/test_data/data/test_300/video/JGV--l5DZsc_380000_390000.mp4 (deflated 1%)\n",
            "  adding: content/telling-left-from-right/test_data/data/test_300/video/ozdDNG9z-Gs_640000_650000.mp4 (deflated 1%)\n",
            "  adding: content/telling-left-from-right/test_data/data/test_300/video/_2cCkYvKPVs_1000000_1010000.mp4 (deflated 0%)\n",
            "  adding: content/telling-left-from-right/test_data/data/test_300/video/SpBWgL-_I-s_1090000_1100000.mp4 (deflated 0%)\n",
            "  adding: content/telling-left-from-right/test_data/data/test_300/video/_2cCkYvKPVs_370000_380000.mp4 (deflated 1%)\n",
            "  adding: content/telling-left-from-right/test_data/data/test_300/video/J3LWAW8w7ik_560000_570000.mp4 (deflated 0%)\n",
            "  adding: content/telling-left-from-right/test_data/data/test_300/video/VBKwmc3s6Ts_80000_90000.mp4 (deflated 0%)\n",
            "  adding: content/telling-left-from-right/test_data/data/test_300/video/aWRlY-dIufc_810000_820000.mp4 (deflated 1%)\n",
            "  adding: content/telling-left-from-right/test_data/data/test_300/video/Z9Ih-PPTIWE_2220000_2230000.mp4 (deflated 0%)\n",
            "  adding: content/telling-left-from-right/test_data/data/test_300/video/VBKwmc3s6Ts_610000_620000.mp4 (deflated 0%)\n",
            "  adding: content/telling-left-from-right/test_data/data/test_300/video/7xIZoFhufbI_990000_1000000.mp4 (deflated 1%)\n",
            "  adding: content/telling-left-from-right/test_data/data/test_300/video/3GOzg1c0EEw_3610000_3620000.mp4 (deflated 1%)\n",
            "  adding: content/telling-left-from-right/test_data/data/test_300/video/PwWwbsg5EDE_690000_700000.mp4 (deflated 0%)\n",
            "  adding: content/telling-left-from-right/test_data/data/test_300/video/HH7qFbvlpfg_1010000_1020000.mp4 (deflated 1%)\n",
            "  adding: content/telling-left-from-right/test_data/data/test_300/video/LqzOixBniZs_1850000_1860000.mp4 (deflated 1%)\n",
            "  adding: content/telling-left-from-right/test_data/data/test_300/video/0c1aOttn738_1280000_1290000.mp4 (deflated 0%)\n",
            "  adding: content/telling-left-from-right/test_data/data/test_300/video/MhmD-7pTlvI_450000_460000.mp4 (deflated 0%)\n",
            "  adding: content/telling-left-from-right/test_data/data/test_300/video/JGV--l5DZsc_260000_270000.mp4 (deflated 1%)\n",
            "  adding: content/telling-left-from-right/test_data/data/test_300/video/UfHPnimtqF8_920000_930000.mp4 (deflated 0%)\n",
            "  adding: content/telling-left-from-right/test_data/data/test_300/video/3_T0yaugZrc_90000_100000.mp4 (deflated 1%)\n",
            "  adding: content/telling-left-from-right/test_data/data/test_300/video/7xIZoFhufbI_1390000_1400000.mp4 (deflated 0%)\n",
            "  adding: content/telling-left-from-right/test_data/data/test_300/video/VBKwmc3s6Ts_1700000_1710000.mp4 (deflated 0%)\n",
            "  adding: content/telling-left-from-right/test_data/data/test_300/video/I5gp7r_I4Yk_160000_170000.mp4 (deflated 1%)\n",
            "  adding: content/telling-left-from-right/test_data/data/test_300/video/o5tUGJc-0_o_5980000_5990000.mp4 (deflated 0%)\n",
            "  adding: content/telling-left-from-right/test_data/data/test_300/video/Z9Ih-PPTIWE_2040000_2050000.mp4 (deflated 0%)\n",
            "  adding: content/telling-left-from-right/test_data/data/test_300/video/3GOzg1c0EEw_9400000_9410000.mp4 (deflated 1%)\n",
            "  adding: content/telling-left-from-right/test_data/data/test_300/video/J3LWAW8w7ik_850000_860000.mp4 (deflated 0%)\n",
            "  adding: content/telling-left-from-right/test_data/data/test_300/video/A5f6-eO5fZI_460000_470000.mp4 (deflated 0%)\n",
            "  adding: content/telling-left-from-right/test_data/data/test_300/video/aWRlY-dIufc_160000_170000.mp4 (deflated 1%)\n",
            "  adding: content/telling-left-from-right/test_data/data/test_300/video/qXv3M2LzLII_280000_290000.mp4 (deflated 0%)\n",
            "  adding: content/telling-left-from-right/test_data/data/test_300/video/7xIZoFhufbI_830000_840000.mp4 (deflated 1%)\n"
          ]
        }
      ]
    },
    {
      "cell_type": "code",
      "source": [
        "from google.colab import files\n",
        "files.download(\"/content/test_300.zip\") # download zipped file to local machine"
      ],
      "metadata": {
        "colab": {
          "base_uri": "https://localhost:8080/",
          "height": 34
        },
        "id": "sqcb7A72QzGn",
        "outputId": "b52ca554-4dbd-4276-f8bb-89e92718a0e9"
      },
      "execution_count": null,
      "outputs": [
        {
          "output_type": "display_data",
          "data": {
            "text/plain": [
              "<IPython.core.display.Javascript object>"
            ],
            "application/javascript": [
              "\n",
              "    async function download(id, filename, size) {\n",
              "      if (!google.colab.kernel.accessAllowed) {\n",
              "        return;\n",
              "      }\n",
              "      const div = document.createElement('div');\n",
              "      const label = document.createElement('label');\n",
              "      label.textContent = `Downloading \"${filename}\": `;\n",
              "      div.appendChild(label);\n",
              "      const progress = document.createElement('progress');\n",
              "      progress.max = size;\n",
              "      div.appendChild(progress);\n",
              "      document.body.appendChild(div);\n",
              "\n",
              "      const buffers = [];\n",
              "      let downloaded = 0;\n",
              "\n",
              "      const channel = await google.colab.kernel.comms.open(id);\n",
              "      // Send a message to notify the kernel that we're ready.\n",
              "      channel.send({})\n",
              "\n",
              "      for await (const message of channel.messages) {\n",
              "        // Send a message to notify the kernel that we're ready.\n",
              "        channel.send({})\n",
              "        if (message.buffers) {\n",
              "          for (const buffer of message.buffers) {\n",
              "            buffers.push(buffer);\n",
              "            downloaded += buffer.byteLength;\n",
              "            progress.value = downloaded;\n",
              "          }\n",
              "        }\n",
              "      }\n",
              "      const blob = new Blob(buffers, {type: 'application/binary'});\n",
              "      const a = document.createElement('a');\n",
              "      a.href = window.URL.createObjectURL(blob);\n",
              "      a.download = filename;\n",
              "      div.appendChild(a);\n",
              "      a.click();\n",
              "      div.remove();\n",
              "    }\n",
              "  "
            ]
          },
          "metadata": {}
        },
        {
          "output_type": "display_data",
          "data": {
            "text/plain": [
              "<IPython.core.display.Javascript object>"
            ],
            "application/javascript": [
              "download(\"download_46621bab-b6ec-4e1e-a9ff-4ce33eccf20e\", \"test_300.zip\", 817476266)"
            ]
          },
          "metadata": {}
        }
      ]
    }
  ]
}